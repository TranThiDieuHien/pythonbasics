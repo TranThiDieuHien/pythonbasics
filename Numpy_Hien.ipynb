{
  "nbformat": 4,
  "nbformat_minor": 0,
  "metadata": {
    "colab": {
      "name": "Numpy_Hien.ipynb",
      "provenance": [],
      "authorship_tag": "ABX9TyMbjjCOrUx8eK6ui67YZRwG",
      "include_colab_link": true
    },
    "kernelspec": {
      "name": "python3",
      "display_name": "Python 3"
    }
  },
  "cells": [
    {
      "cell_type": "markdown",
      "metadata": {
        "id": "view-in-github",
        "colab_type": "text"
      },
      "source": [
        "<a href=\"https://colab.research.google.com/github/TranThiDieuHien/pythonbasics/blob/master/Numpy_Hien.ipynb\" target=\"_parent\"><img src=\"https://colab.research.google.com/assets/colab-badge.svg\" alt=\"Open In Colab\"/></a>"
      ]
    },
    {
      "cell_type": "code",
      "metadata": {
        "colab": {
          "base_uri": "https://localhost:8080/"
        },
        "id": "MFkUEJ6LSikB",
        "outputId": "97d33b25-3ead-4ecd-e815-4f4205266d2d"
      },
      "source": [
        "import numpy as np\r\n",
        "from sympy import Matrix\r\n",
        "import random\r\n",
        "\r\n",
        "def matran(n): #ham tao random ma tran a\r\n",
        "    a = np.random.randint(low=10, size=(n, n))\r\n",
        "    return a\r\n",
        "\r\n",
        "\r\n",
        "def chuyen_vi(a): #ham tim ma tran chuyen vi cua ma tran a\r\n",
        "    c = np.transpose(a)\r\n",
        "    return c\r\n",
        "\r\n",
        "\r\n",
        "def rank_matran(a): #ham tim rank cua ma tran a\r\n",
        "    r = np.linalg.matrix_rank(a)\r\n",
        "    return r\r\n",
        "\r\n",
        "\r\n",
        "def bac_thang(a): #ham tim ma tran bac thang cua ma tran a\r\n",
        "    a = Matrix(a)\r\n",
        "    b = Matrix.rref(a)\r\n",
        "    return np.array(b[0])\r\n",
        "\r\n",
        "\r\n",
        "n = int(input(\"Nhap n: \"))\r\n",
        "a = matran(n) #ma tran random a\r\n",
        "r = rank_matran(a) #rank cua ma tran a\r\n",
        "b = bac_thang(a) #ma tran bac thang cua a\r\n",
        "c = chuyen_vi(a) #ma tran chuyen vi cua a\r\n",
        "don_vi = np.eye(3, 4)\r\n",
        "\r\n",
        "print(\"Ma tran a: \\n\", a)\r\n",
        "print(\"Rank ma tran:\", r)\r\n",
        "print(\"Ma tran bac thang cua a: \\n\", b)\r\n",
        "print(\"Ma tran chuyen vi cua a: \\n\", c)\r\n",
        "print(\"Nhan ma tran a voi ma tran a: \\n\", a@a)\r\n",
        "print(\"Cong ma tran a voi a \\n \", a+a)\r\n",
        "print(\"Tru ma tran a voi a \\n \", a-a)\r\n",
        "print(\"Ma tran don vi \\n\", don_vi)"
      ],
      "execution_count": 22,
      "outputs": [
        {
          "output_type": "stream",
          "text": [
            "Nhap n: 4\n",
            "Ma tran a: \n",
            " [[4 1 9 8]\n",
            " [1 4 1 7]\n",
            " [5 4 1 7]\n",
            " [8 6 0 1]]\n",
            "Rank ma tran: 4\n",
            "Ma tran bac thang cua a: \n",
            " [[1 0 0 0]\n",
            " [0 1 0 0]\n",
            " [0 0 1 0]\n",
            " [0 0 0 1]]\n",
            "Ma tran chuyen vi cua a: \n",
            " [[4 1 5 8]\n",
            " [1 4 4 6]\n",
            " [9 1 1 0]\n",
            " [8 7 7 1]]\n",
            "Nhan ma tran a voi ma tran a: \n",
            " [[126  92  46 110]\n",
            " [ 69  63  14  50]\n",
            " [ 85  67  50  82]\n",
            " [ 46  38  78 107]]\n",
            "Cong ma tran a voi a \n",
            "  [[ 8  2 18 16]\n",
            " [ 2  8  2 14]\n",
            " [10  8  2 14]\n",
            " [16 12  0  2]]\n",
            "Tru ma tran a voi a \n",
            "  [[0 0 0 0]\n",
            " [0 0 0 0]\n",
            " [0 0 0 0]\n",
            " [0 0 0 0]]\n",
            "Ma tran don vi \n",
            " [[1. 0. 0. 0.]\n",
            " [0. 1. 0. 0.]\n",
            " [0. 0. 1. 0.]]\n"
          ],
          "name": "stdout"
        }
      ]
    }
  ]
}