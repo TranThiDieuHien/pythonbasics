{
  "nbformat": 4,
  "nbformat_minor": 0,
  "metadata": {
    "colab": {
      "name": "BT_ANOVA_Math.ipynb",
      "provenance": [],
      "authorship_tag": "ABX9TyNYmyXyoD8P3AG+CQAHOD30",
      "include_colab_link": true
    },
    "kernelspec": {
      "name": "python3",
      "display_name": "Python 3"
    },
    "language_info": {
      "name": "python"
    }
  },
  "cells": [
    {
      "cell_type": "markdown",
      "metadata": {
        "id": "view-in-github",
        "colab_type": "text"
      },
      "source": [
        "<a href=\"https://colab.research.google.com/github/TranThiDieuHien/pythonbasics/blob/master/BT_ANOVA_Math.ipynb\" target=\"_parent\"><img src=\"https://colab.research.google.com/assets/colab-badge.svg\" alt=\"Open In Colab\"/></a>"
      ]
    },
    {
      "cell_type": "code",
      "metadata": {
        "id": "w02vLIzrBS6t"
      },
      "source": [
        "import numpy as np\n",
        "import pandas as pd\n",
        "from matplotlib import pyplot as plt\n",
        "import seaborn as sns\n",
        "from scipy import stats\n",
        "%matplotlib inline\n",
        "plt.rcParams['figure.figsize'] = [16, 9]\n",
        "plt.rcParams['figure.dpi'] = 100\n",
        "plt.rcParams.update({'font.size': 18})"
      ],
      "execution_count": 1,
      "outputs": []
    },
    {
      "cell_type": "code",
      "metadata": {
        "id": "h2zwEp_iBZ6s"
      },
      "source": [
        "def results(p, alpha=0.05):\n",
        "    cols=['f_score', 'p_value', 'KetLuan']\n",
        "    if p['p_value'] < alpha:\n",
        "        p['KetLuan'] = f\"Chấp nhận H1 với mức ý nghĩa {alpha}\"\n",
        "    if p['p_value'] >= alpha:\n",
        "        p['KetLuan'] = f\"Chấp nhận H0 với mức ý nghĩa {alpha}\"\n",
        "    df = pd.DataFrame(p, index=[''])\n",
        "    return df[cols]"
      ],
      "execution_count": 2,
      "outputs": []
    },
    {
      "cell_type": "code",
      "metadata": {
        "id": "BZC93W83Bhda"
      },
      "source": [
        "cl_df = pd.io.stata.read_stata(\"cholesterol.dta\")"
      ],
      "execution_count": 7,
      "outputs": []
    },
    {
      "cell_type": "code",
      "metadata": {
        "colab": {
          "base_uri": "https://localhost:8080/",
          "height": 419
        },
        "id": "3pmfpMDVB6uZ",
        "outputId": "abf89ce3-3086-4779-feaa-4bb7450f1247"
      },
      "source": [
        "cl_df"
      ],
      "execution_count": 27,
      "outputs": [
        {
          "output_type": "execute_result",
          "data": {
            "text/html": [
              "<div>\n",
              "<style scoped>\n",
              "    .dataframe tbody tr th:only-of-type {\n",
              "        vertical-align: middle;\n",
              "    }\n",
              "\n",
              "    .dataframe tbody tr th {\n",
              "        vertical-align: top;\n",
              "    }\n",
              "\n",
              "    .dataframe thead th {\n",
              "        text-align: right;\n",
              "    }\n",
              "</style>\n",
              "<table border=\"1\" class=\"dataframe\">\n",
              "  <thead>\n",
              "    <tr style=\"text-align: right;\">\n",
              "      <th></th>\n",
              "      <th>race</th>\n",
              "      <th>agegrp</th>\n",
              "      <th>chol</th>\n",
              "      <th>agemidpt</th>\n",
              "      <th>meangrp</th>\n",
              "    </tr>\n",
              "  </thead>\n",
              "  <tbody>\n",
              "    <tr>\n",
              "      <th>0</th>\n",
              "      <td>White</td>\n",
              "      <td>10–19</td>\n",
              "      <td>188.962997</td>\n",
              "      <td>15.0</td>\n",
              "      <td>179.853088</td>\n",
              "    </tr>\n",
              "    <tr>\n",
              "      <th>1</th>\n",
              "      <td>Black</td>\n",
              "      <td>10–19</td>\n",
              "      <td>179.729446</td>\n",
              "      <td>15.0</td>\n",
              "      <td>179.853088</td>\n",
              "    </tr>\n",
              "    <tr>\n",
              "      <th>2</th>\n",
              "      <td>Other</td>\n",
              "      <td>10–19</td>\n",
              "      <td>169.779404</td>\n",
              "      <td>15.0</td>\n",
              "      <td>179.853088</td>\n",
              "    </tr>\n",
              "    <tr>\n",
              "      <th>3</th>\n",
              "      <td>Black</td>\n",
              "      <td>10–19</td>\n",
              "      <td>176.760956</td>\n",
              "      <td>15.0</td>\n",
              "      <td>179.853088</td>\n",
              "    </tr>\n",
              "    <tr>\n",
              "      <th>4</th>\n",
              "      <td>Other</td>\n",
              "      <td>10–19</td>\n",
              "      <td>182.571182</td>\n",
              "      <td>15.0</td>\n",
              "      <td>179.853088</td>\n",
              "    </tr>\n",
              "    <tr>\n",
              "      <th>...</th>\n",
              "      <td>...</td>\n",
              "      <td>...</td>\n",
              "      <td>...</td>\n",
              "      <td>...</td>\n",
              "      <td>...</td>\n",
              "    </tr>\n",
              "    <tr>\n",
              "      <th>70</th>\n",
              "      <td>Black</td>\n",
              "      <td>60–79</td>\n",
              "      <td>208.904495</td>\n",
              "      <td>70.0</td>\n",
              "      <td>220.615295</td>\n",
              "    </tr>\n",
              "    <tr>\n",
              "      <th>71</th>\n",
              "      <td>Black</td>\n",
              "      <td>60–79</td>\n",
              "      <td>222.540878</td>\n",
              "      <td>70.0</td>\n",
              "      <td>220.615295</td>\n",
              "    </tr>\n",
              "    <tr>\n",
              "      <th>72</th>\n",
              "      <td>White</td>\n",
              "      <td>60–79</td>\n",
              "      <td>213.022552</td>\n",
              "      <td>70.0</td>\n",
              "      <td>220.615295</td>\n",
              "    </tr>\n",
              "    <tr>\n",
              "      <th>73</th>\n",
              "      <td>White</td>\n",
              "      <td>60–79</td>\n",
              "      <td>196.742615</td>\n",
              "      <td>70.0</td>\n",
              "      <td>220.615295</td>\n",
              "    </tr>\n",
              "    <tr>\n",
              "      <th>74</th>\n",
              "      <td>White</td>\n",
              "      <td>60–79</td>\n",
              "      <td>213.292603</td>\n",
              "      <td>70.0</td>\n",
              "      <td>220.615295</td>\n",
              "    </tr>\n",
              "  </tbody>\n",
              "</table>\n",
              "<p>75 rows × 5 columns</p>\n",
              "</div>"
            ],
            "text/plain": [
              "     race agegrp        chol  agemidpt     meangrp\n",
              "0   White  10–19  188.962997      15.0  179.853088\n",
              "1   Black  10–19  179.729446      15.0  179.853088\n",
              "2   Other  10–19  169.779404      15.0  179.853088\n",
              "3   Black  10–19  176.760956      15.0  179.853088\n",
              "4   Other  10–19  182.571182      15.0  179.853088\n",
              "..    ...    ...         ...       ...         ...\n",
              "70  Black  60–79  208.904495      70.0  220.615295\n",
              "71  Black  60–79  222.540878      70.0  220.615295\n",
              "72  White  60–79  213.022552      70.0  220.615295\n",
              "73  White  60–79  196.742615      70.0  220.615295\n",
              "74  White  60–79  213.292603      70.0  220.615295\n",
              "\n",
              "[75 rows x 5 columns]"
            ]
          },
          "metadata": {
            "tags": []
          },
          "execution_count": 27
        }
      ]
    },
    {
      "cell_type": "markdown",
      "metadata": {
        "id": "1vbv2dhpNzID"
      },
      "source": [
        "So sánh trung bình Cholesterol giữa các nhóm sắc tộc\n",
        "Phát biểu giả thuyết:\n",
        "\n",
        "$H_{0}$: Không có sự khác biệt về trung bình cholesterol giữa 3 nhóm sắc tộc\n",
        "\n",
        "$H_{1}$: Có ít nhất 2 nhóm sắc tộc có trung bình cholesterol khác nhau"
      ]
    },
    {
      "cell_type": "markdown",
      "metadata": {
        "id": "wzjajAktN9L4"
      },
      "source": [
        "**STEP 1: Chạy mô hình kiểm định ANOVA**"
      ]
    },
    {
      "cell_type": "code",
      "metadata": {
        "id": "uQNNmayLOFVD"
      },
      "source": [
        "from statsmodels.formula.api import ols\n",
        "import statsmodels.api as sm"
      ],
      "execution_count": 29,
      "outputs": []
    },
    {
      "cell_type": "code",
      "metadata": {
        "id": "Du6rQlI2OIma"
      },
      "source": [
        "model = ols('chol ~ C(race)', data=cl_df).fit()\n",
        "anova_table = sm.stats.anova_lm(model, typ=2)"
      ],
      "execution_count": 30,
      "outputs": []
    },
    {
      "cell_type": "code",
      "metadata": {
        "colab": {
          "base_uri": "https://localhost:8080/",
          "height": 111
        },
        "id": "WI-A7hANOZG5",
        "outputId": "25e23e15-330b-4b24-c11a-722987fd8f57"
      },
      "source": [
        "anova_table"
      ],
      "execution_count": 31,
      "outputs": [
        {
          "output_type": "execute_result",
          "data": {
            "text/html": [
              "<div>\n",
              "<style scoped>\n",
              "    .dataframe tbody tr th:only-of-type {\n",
              "        vertical-align: middle;\n",
              "    }\n",
              "\n",
              "    .dataframe tbody tr th {\n",
              "        vertical-align: top;\n",
              "    }\n",
              "\n",
              "    .dataframe thead th {\n",
              "        text-align: right;\n",
              "    }\n",
              "</style>\n",
              "<table border=\"1\" class=\"dataframe\">\n",
              "  <thead>\n",
              "    <tr style=\"text-align: right;\">\n",
              "      <th></th>\n",
              "      <th>sum_sq</th>\n",
              "      <th>df</th>\n",
              "      <th>F</th>\n",
              "      <th>PR(&gt;F)</th>\n",
              "    </tr>\n",
              "  </thead>\n",
              "  <tbody>\n",
              "    <tr>\n",
              "      <th>C(race)</th>\n",
              "      <td>669.278235</td>\n",
              "      <td>2.0</td>\n",
              "      <td>1.108161</td>\n",
              "      <td>0.33573</td>\n",
              "    </tr>\n",
              "    <tr>\n",
              "      <th>Residual</th>\n",
              "      <td>21742.341205</td>\n",
              "      <td>72.0</td>\n",
              "      <td>NaN</td>\n",
              "      <td>NaN</td>\n",
              "    </tr>\n",
              "  </tbody>\n",
              "</table>\n",
              "</div>"
            ],
            "text/plain": [
              "                sum_sq    df         F   PR(>F)\n",
              "C(race)     669.278235   2.0  1.108161  0.33573\n",
              "Residual  21742.341205  72.0       NaN      NaN"
            ]
          },
          "metadata": {
            "tags": []
          },
          "execution_count": 31
        }
      ]
    },
    {
      "cell_type": "markdown",
      "metadata": {
        "id": "YM7dmgIzOkQ6"
      },
      "source": [
        "**STEP 2: Kiểm tra các điều kiện cho kiểm định Anova**"
      ]
    },
    {
      "cell_type": "code",
      "metadata": {
        "colab": {
          "base_uri": "https://localhost:8080/",
          "height": 279
        },
        "id": "goHc0ShHOfkj",
        "outputId": "6a3c9ad3-3f81-4cc3-8a47-62361488191d"
      },
      "source": [
        "fig, ax = plt.subplots(1, 2)\n",
        "# model.resid -> các giá trị thặng dư của model: dùng nó để kiểm tra điều kiện cho Anova\n",
        "\n",
        "sm.qqplot(model.resid, line='s', ax=ax[0], color = 'lime')\n",
        "plt.xlabel(\"Theoretical Quantiles\")\n",
        "plt.ylabel(\"Sample Residuals\")\n",
        "\n",
        "plt.hist(model.resid, bins='auto', histtype='bar', ec='k', color = 'cyan', edgecolor ='blue') \n",
        "plt.xlabel(\"Residuals\")\n",
        "plt.ylabel('Frequency')\n",
        "plt.show()\n",
        "#stats.shapiro(model.resid)"
      ],
      "execution_count": 36,
      "outputs": [
        {
          "output_type": "display_data",
          "data": {
            "image/png": "[encoded data removed]",
            "text/plain": [
              "<Figure size 432x288 with 2 Axes>"
            ]
          },
          "metadata": {
            "tags": [],
            "needs_background": "light"
          }
        }
      ]
    },
    {
      "cell_type": "code",
      "metadata": {
        "colab": {
          "base_uri": "https://localhost:8080/"
        },
        "id": "hv6Bk4vTPWVN",
        "outputId": "1cbcbaa3-711d-4c33-a78a-660862ba4cee"
      },
      "source": [
        "# Sử dụng kiểm định shapiro cho chuẩn/không chuẩn\n",
        "stats.shapiro(model.resid)"
      ],
      "execution_count": 37,
      "outputs": [
        {
          "output_type": "execute_result",
          "data": {
            "text/plain": [
              "(0.9812602996826172, 0.3320319652557373)"
            ]
          },
          "metadata": {
            "tags": []
          },
          "execution_count": 37
        }
      ]
    },
    {
      "cell_type": "markdown",
      "metadata": {
        "id": "UcqX0HaFPdyh"
      },
      "source": [
        "**STEP 3: Kiểm định hậu nghiệm cho Anova (one-way)**"
      ]
    },
    {
      "cell_type": "code",
      "metadata": {
        "id": "0ejr19dAPhce"
      },
      "source": [
        "from statsmodels.stats.multicomp import pairwise_tukeyhsd"
      ],
      "execution_count": 38,
      "outputs": []
    },
    {
      "cell_type": "code",
      "metadata": {
        "colab": {
          "base_uri": "https://localhost:8080/",
          "height": 120
        },
        "id": "qvh4xbT3PsRE",
        "outputId": "ccbc71e7-d0ad-4fab-ca76-ecfdc102cb7d"
      },
      "source": [
        "tukey = pairwise_tukeyhsd(endog=cl_df['chol'],\n",
        "                          groups=cl_df['race'],\n",
        "                          alpha=0.05)\n",
        "tukey.summary()"
      ],
      "execution_count": 39,
      "outputs": [
        {
          "output_type": "execute_result",
          "data": {
            "text/html": [
              "<table class=\"simpletable\">\n",
              "<caption>Multiple Comparison of Means - Tukey HSD, FWER=0.05</caption>\n",
              "<tr>\n",
              "  <th>group1</th> <th>group2</th> <th>meandiff</th>  <th>p-adj</th>   <th>lower</th>   <th>upper</th>  <th>reject</th>\n",
              "</tr>\n",
              "<tr>\n",
              "   <td>Black</td>  <td>Other</td>  <td>-5.7153</td> <td>0.4808</td> <td>-17.4778</td> <td>6.0473</td>   <td>False</td>\n",
              "</tr>\n",
              "<tr>\n",
              "   <td>Black</td>  <td>White</td>  <td>-6.8147</td> <td>0.3542</td> <td>-18.5773</td> <td>4.9478</td>   <td>False</td>\n",
              "</tr>\n",
              "<tr>\n",
              "   <td>Other</td>  <td>White</td>  <td>-1.0995</td>   <td>0.9</td>   <td>-12.862</td> <td>10.6631</td>  <td>False</td>\n",
              "</tr>\n",
              "</table>"
            ],
            "text/plain": [
              "<class 'statsmodels.iolib.table.SimpleTable'>"
            ]
          },
          "metadata": {
            "tags": []
          },
          "execution_count": 39
        }
      ]
    },
    {
      "cell_type": "markdown",
      "metadata": {
        "id": "-Em6i3ClQTB3"
      },
      "source": [
        "**Mô tả trực quan hóa cho phần hậu nghiệm**"
      ]
    },
    {
      "cell_type": "code",
      "metadata": {
        "colab": {
          "base_uri": "https://localhost:8080/",
          "height": 281
        },
        "id": "YGOdiVzBQU_Z",
        "outputId": "db2f8488-ebcd-48d4-bb29-d759122519b7"
      },
      "source": [
        "# Kỹ thuật EDA:\n",
        "sns.boxplot(x='race', y='chol', data=cl_df, color='cyan')\n",
        "sns.swarmplot(x=\"race\", y=\"chol\", data=cl_df, color='red')\n",
        "plt.show()"
      ],
      "execution_count": 42,
      "outputs": [
        {
          "output_type": "display_data",
          "data": {
            "image/png": "[encoded data removed]",
            "text/plain": [
              "<Figure size 432x288 with 1 Axes>"
            ]
          },
          "metadata": {
            "tags": [],
            "needs_background": "light"
          }
        }
      ]
    },
    {
      "cell_type": "code",
      "metadata": {
        "id": "Pvv_4fV2Qpg8"
      },
      "source": [
        "race_chol_df = cl_df[['race', 'chol']].copy()\n",
        "white = race_chol_df[race_chol_df['race']=='White']\n",
        "black = race_chol_df[race_chol_df['race']=='Black']\n",
        "other = race_chol_df[race_chol_df['race']=='Other']"
      ],
      "execution_count": 43,
      "outputs": []
    },
    {
      "cell_type": "code",
      "metadata": {
        "colab": {
          "base_uri": "https://localhost:8080/",
          "height": 80
        },
        "id": "OVmWICdqQ5rv",
        "outputId": "5b45615e-158d-4b83-fb64-ac841d163759"
      },
      "source": [
        "p = {}\n",
        "p['f_score'], p['p_value'] = stats.f_oneway(white['chol'],black['chol'],other['chol'])\n",
        "results(p)"
      ],
      "execution_count": 44,
      "outputs": [
        {
          "output_type": "execute_result",
          "data": {
            "text/html": [
              "<div>\n",
              "<style scoped>\n",
              "    .dataframe tbody tr th:only-of-type {\n",
              "        vertical-align: middle;\n",
              "    }\n",
              "\n",
              "    .dataframe tbody tr th {\n",
              "        vertical-align: top;\n",
              "    }\n",
              "\n",
              "    .dataframe thead th {\n",
              "        text-align: right;\n",
              "    }\n",
              "</style>\n",
              "<table border=\"1\" class=\"dataframe\">\n",
              "  <thead>\n",
              "    <tr style=\"text-align: right;\">\n",
              "      <th></th>\n",
              "      <th>f_score</th>\n",
              "      <th>p_value</th>\n",
              "      <th>KetLuan</th>\n",
              "    </tr>\n",
              "  </thead>\n",
              "  <tbody>\n",
              "    <tr>\n",
              "      <th></th>\n",
              "      <td>1.108161</td>\n",
              "      <td>0.33573</td>\n",
              "      <td>Chấp nhận H0 với mức ý nghĩa 0.05</td>\n",
              "    </tr>\n",
              "  </tbody>\n",
              "</table>\n",
              "</div>"
            ],
            "text/plain": [
              "   f_score  p_value                            KetLuan\n",
              "  1.108161  0.33573  Chấp nhận H0 với mức ý nghĩa 0.05"
            ]
          },
          "metadata": {
            "tags": []
          },
          "execution_count": 44
        }
      ]
    }
  ]
}