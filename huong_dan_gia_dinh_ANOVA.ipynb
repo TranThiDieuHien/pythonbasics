{
  "nbformat": 4,
  "nbformat_minor": 0,
  "metadata": {
    "kernelspec": {
      "display_name": "Python 3",
      "language": "python",
      "name": "python3"
    },
    "language_info": {
      "codemirror_mode": {
        "name": "ipython",
        "version": 3
      },
      "file_extension": ".py",
      "mimetype": "text/x-python",
      "name": "python",
      "nbconvert_exporter": "python",
      "pygments_lexer": "ipython3",
      "version": "3.7.3"
    },
    "colab": {
      "name": "huong-dan-gia-dinh-ANOVA.ipynb",
      "provenance": [],
      "include_colab_link": true
    }
  },
  "cells": [
    {
      "cell_type": "markdown",
      "metadata": {
        "id": "view-in-github",
        "colab_type": "text"
      },
      "source": [
        "<a href=\"https://colab.research.google.com/github/TranThiDieuHien/pythonbasics/blob/master/huong_dan_gia_dinh_ANOVA.ipynb\" target=\"_parent\"><img src=\"https://colab.research.google.com/assets/colab-badge.svg\" alt=\"Open In Colab\"/></a>"
      ]
    },
    {
      "cell_type": "code",
      "metadata": {
        "id": "2f5PfrA_oj2P"
      },
      "source": [
        "from scipy import stats\n",
        "import numpy as np\n",
        "import pandas as pd\n",
        "from scipy.stats import bartlett"
      ],
      "execution_count": 153,
      "outputs": []
    },
    {
      "cell_type": "markdown",
      "metadata": {
        "id": "iU873LNZogn3"
      },
      "source": [
        "PHÂN TÍCH ANOVA MỘT CHIỀU\n",
        "\n",
        "Phân tích ANOVA chấp nhận các giả định sau:\n",
        "\n",
        "(1) Tất cả các nhóm đều độc lập với nhau\n",
        "\n",
        "(2) Dữ liệu của mỗi nhóm đều tuân theo phân phối chuẩn. Tính chất này có thể được kiểm định bằng phương pháp Shapiro-Wilks.\n",
        "\n",
        "(3) Phương sai (variance) của các nhóm bằng nhau. Tính chất này có thể được kiểm định bằng phương pháp kiểm định Bartlett hay Levene.\n",
        "\n",
        "Nếu dữ liệu hiện có thỏa mãn các tính chất trên thì chúng ta mới tiến hành kiểm định ANOVA. Do vậy trước khi tiến hành kiểm định ANOVA, chúng ta cần thực hiện kiểm tra tập dữ liệu cần thỏa mãn 3 tính chất trên.\n",
        "    "
      ]
    },
    {
      "cell_type": "code",
      "metadata": {
        "colab": {
          "base_uri": "https://localhost:8080/"
        },
        "id": "dp3FXbmfogoM",
        "outputId": "ae5be319-d6a6-42b1-c1bd-a424c035f45f"
      },
      "source": [
        "#Bước 1: Hãy tạo một tập dữ liệu mẫu sample_1 với kích thước 100 tuân theo phân phối chuẩn, cho mean = 20, std = 0.2\n",
        "sample_1 = stats.norm.rvs(loc=20, scale=0.2, size=100)\n",
        "print(sample_1[:10])"
      ],
      "execution_count": 154,
      "outputs": [
        {
          "output_type": "stream",
          "text": [
            "[20.11693934 19.89386172 19.96217058 20.0810106  20.09724138 20.04748434\n",
            " 19.97757972 19.70471335 19.6094493  19.90992411]\n"
          ],
          "name": "stdout"
        }
      ]
    },
    {
      "cell_type": "code",
      "metadata": {
        "colab": {
          "base_uri": "https://localhost:8080/"
        },
        "id": "ardfzPacogoP",
        "outputId": "d879301d-1ccf-4d35-a23a-b7dce92d3403"
      },
      "source": [
        "#Bước 2: hãy tạo tập dữ liệu mẫu sample_2 với kích thước 100 tuân theo phân phối Poisson\n",
        "sample_2 = stats.poisson.rvs(loc=20, mu = 1, size = 100)\n",
        "print(sample_2[:10])"
      ],
      "execution_count": 155,
      "outputs": [
        {
          "output_type": "stream",
          "text": [
            "[21 21 20 20 22 21 21 20 21 21]\n"
          ],
          "name": "stdout"
        }
      ]
    },
    {
      "cell_type": "markdown",
      "metadata": {
        "id": "KYW_MYYLogoQ"
      },
      "source": [
        "Hãy tham khảo các hướng dẫn sau để kiểm định tính chất thứ 2 bằng phương pháp Shapiro-Wilks đối với sample_1 và sample_2\n",
        "\n",
        "(1) [Tài liệu tham khảo scipy](https://docs.scipy.org/doc/scipy/reference/generated/scipy.stats.shapiro.html)\n",
        "\n",
        "(2) [Hướng dẫn cụ thể của statology](https://www.statology.org/shapiro-wilk-test-python/)"
      ]
    },
    {
      "cell_type": "code",
      "metadata": {
        "colab": {
          "base_uri": "https://localhost:8080/"
        },
        "id": "-DlWA2JiogoS",
        "outputId": "0f0591f4-1751-43e7-8545-2ae1c8383aaa"
      },
      "source": [
        "#Code kiểm định tính chất thứ 2 của sample_1 và sample_2\n",
        "# thử nghiệm Shapiro-Wilk để xác định xem một mẫu có đến từ phân phối chuẩn hay không.\n",
        "print(\"Thử nghiệm Shapiro-Wilk tuân theo phân phối chuẩn\")\n",
        "shapiro_test1 = stats.shapiro(sample_1) \n",
        "print(\"Statistic =\", shapiro_test1[0], \"\\n\",\n",
        "      \"p value =\", shapiro_test1[1])\n",
        "print(\"-----------------------------------------\")\n",
        "\n",
        "print(\"Thử nghiệm Shapiro-Wilk tuân theo phân phối Poisson\")\n",
        "shapiro_test2 = stats.shapiro(sample_2)\n",
        "print(\"Statistic =\", shapiro_test2[0], \"\\n\",\n",
        "      \"p value =\", shapiro_test2[1])"
      ],
      "execution_count": 156,
      "outputs": [
        {
          "output_type": "stream",
          "text": [
            "Thử nghiệm Shapiro-Wilk tuân theo phân phối chuẩn\n",
            "Statistic = 0.9749535918235779 \n",
            " p value = 0.05350716412067413\n",
            "-----------------------------------------\n",
            "Thử nghiệm Shapiro-Wilk tuân theo phân phối Poisson\n",
            "Statistic = 0.8053423762321472 \n",
            " p value = 3.6244915402328104e-10\n"
          ],
          "name": "stdout"
        }
      ]
    },
    {
      "cell_type": "markdown",
      "metadata": {
        "id": "-5vyG_KxogoT"
      },
      "source": [
        "Hãy tham khảo các hướng dẫn sau để kiểm định tính chất thứ 3 bằng kiểm định Bartlett hoặc kiểm định Levene\n",
        "\n",
        "(1) [Hướng dẫn tổng quát](https://www.marsja.se/levenes-bartletts-test-of-equality-homogeneity-of-variance-in-python/)\n",
        "\n",
        "(2) [Hướng dẫn ở stackoverflow](https://stackoverflow.com/questions/36141254/how-to-test-for-homoscedasticity-having-the-same-population-variance-in-python)\n",
        "\n",
        "(3) Sử dụng bài giảng về kiểm định Bartlett và Levene ở buổi trước"
      ]
    },
    {
      "cell_type": "code",
      "metadata": {
        "id": "7R-WVJPMogoW"
      },
      "source": [
        "#Code kiểm định tính đồng nhất về phương sai của các nhóm"
      ],
      "execution_count": 146,
      "outputs": []
    },
    {
      "cell_type": "markdown",
      "metadata": {
        "id": "AHsoHn-vovy0"
      },
      "source": [
        "Example: An University have 4 Majors: Business, Psych, Math, English. We will consider the level of frustration of 100 students with each major.\n",
        "\n",
        "- $\\mu_{1}$ : level of frustration of Business Majors\n",
        "- $\\mu_{2}$ : level of frustration of English Majors\n",
        "- $\\mu_{3}$ : level of frustration of Math Majors\n",
        "- $\\mu_{4}$ : level of frustration of Psych Majors\n",
        "\n",
        "The size of each sample is 35. Assume that Y(level of frustration) = 10"
      ]
    },
    {
      "cell_type": "code",
      "metadata": {
        "colab": {
          "base_uri": "https://localhost:8080/"
        },
        "id": "brrM0oyJo8Oz",
        "outputId": "f1c40631-c956-4290-ecd2-46d382394a1a"
      },
      "source": [
        "#Sinh ngẫu nhiên\n",
        "Business = np.random.choice(10, 35)\n",
        "Math = np.random.choice(10, 35)\n",
        "English = np.random.choice(10, 35)\n",
        "Psych = np.random.choice(10, 35)\n",
        "#Tạo dataframe\n",
        "list_of_tuples = list(zip(Business, English, Math, Psych))\n",
        "df2 = pd.DataFrame(list_of_tuples, columns = [\"Business Majors\", \"English Majors\", \"Math Majors\", \"Psych Majors\"])\n",
        "print(df2.head())\n",
        "#Lấy từng nhóm\n",
        "Bus = df2['Business Majors'].unique()\n",
        "Eng = df2['English Majors'].unique()\n",
        "Math = df2['Math Majors'].unique()\n",
        "Psy = df2['Psych Majors'].unique()\n",
        "alpha = 0.05\n"
      ],
      "execution_count": 157,
      "outputs": [
        {
          "output_type": "stream",
          "text": [
            "   Business Majors  English Majors  Math Majors  Psych Majors\n",
            "0                0               8            8             0\n",
            "1                7               1            2             8\n",
            "2                1               5            4             5\n",
            "3                6               7            2             1\n",
            "4                0               4            5             6\n"
          ],
          "name": "stdout"
        }
      ]
    },
    {
      "cell_type": "code",
      "metadata": {
        "colab": {
          "base_uri": "https://localhost:8080/"
        },
        "id": "2y4mRKTgogoX",
        "outputId": "bb338784-9301-4b47-a4b2-d0f5b9e45571"
      },
      "source": [
        "#Kiểm định bằng bartlett\n",
        "stat, pvalue = stats.bartlett(Bus, Eng, Math, Psy)\n",
        "print(\"Statistic =\", stat, \"\\n\",\n",
        "      \"p value =\", pvalue)\n",
        "if pvalue1 < alpha:\n",
        "  print(\"Các quần thể không có phương sai bằng nhau\")\n",
        "else:\n",
        "  print(\"Các quần thể có phương sai bằng nhau\")\n",
        "  #Xem phương sai của từng biến\n",
        "  b, e, m, p = [np.var(x, ddof=1) for x in [Bus, Eng, Math, Psy]]\n",
        "  print(\"PS của Bus =\", b, \"\\n\",\n",
        "      \"PS của Eng =\", e, \"\\n\",\n",
        "      \"PS của Math =\", m, \"\\n\",\n",
        "      \"PS của Psy =\", p, \"\\n\",)"
      ],
      "execution_count": 158,
      "outputs": [
        {
          "output_type": "stream",
          "text": [
            "Statistic = 0.11427463983421088 \n",
            " p value = 0.9900710428231514\n",
            "Các quần thể có phương sai bằng nhau\n",
            "PS của Bus = 7.5 \n",
            " PS của Eng = 9.166666666666666 \n",
            " PS của Math = 9.166666666666666 \n",
            " PS của Psy = 9.166666666666666 \n",
            "\n"
          ],
          "name": "stdout"
        }
      ]
    },
    {
      "cell_type": "code",
      "metadata": {
        "colab": {
          "base_uri": "https://localhost:8080/"
        },
        "id": "IcTfFc03o_z6",
        "outputId": "f01768ed-86bf-401e-fb8a-bbcd5ae01e92"
      },
      "source": [
        "#Kiểm định bằng Levene\n",
        "stat1, pvalue1 = stats.levene(Bus, Eng, Math, Psy)\n",
        "print(\"Statistic =\", stat1, \"\\n\",\n",
        "      \"p value =\", pvalue1)\n",
        "if pvalue1 < alpha:\n",
        "  print(\"Các quần thể không có phương sai bằng nhau\")\n",
        "else:\n",
        "  print(\"Các quần thể có phương sai bằng nhau\")\n",
        "  #Xem phương sai của từng biến\n",
        "  b, e, m, p = [np.var(x, ddof=1) for x in [Bus, Eng, Math, Psy]]\n",
        "  print(\"PS của Bus =\", b, \"\\n\",\n",
        "      \"PS của Eng =\", e, \"\\n\",\n",
        "      \"PS của Math =\", m, \"\\n\",\n",
        "      \"PS của Psy =\", p, \"\\n\",)"
      ],
      "execution_count": 159,
      "outputs": [
        {
          "output_type": "stream",
          "text": [
            "Statistic = 0.0824849170437405 \n",
            " p value = 0.9691292600784037\n",
            "Các quần thể có phương sai bằng nhau\n",
            "PS của Bus = 7.5 \n",
            " PS của Eng = 9.166666666666666 \n",
            " PS của Math = 9.166666666666666 \n",
            " PS của Psy = 9.166666666666666 \n",
            "\n"
          ],
          "name": "stdout"
        }
      ]
    },
    {
      "cell_type": "code",
      "metadata": {
        "id": "pt4zesqgpD45"
      },
      "source": [
        ""
      ],
      "execution_count": null,
      "outputs": []
    }
  ]
}