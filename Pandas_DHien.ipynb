{
  "nbformat": 4,
  "nbformat_minor": 0,
  "metadata": {
    "colab": {
      "name": "Untitled2.ipynb",
      "provenance": [],
      "authorship_tag": "ABX9TyNwccsmpzmthWuQb+eUbNU4",
      "include_colab_link": true
    },
    "kernelspec": {
      "name": "python3",
      "display_name": "Python 3"
    }
  },
  "cells": [
    {
      "cell_type": "markdown",
      "metadata": {
        "id": "view-in-github",
        "colab_type": "text"
      },
      "source": [
        "<a href=\"https://colab.research.google.com/github/TranThiDieuHien/pythonbasics/blob/master/Pandas_DHien.ipynb\" target=\"_parent\"><img src=\"https://colab.research.google.com/assets/colab-badge.svg\" alt=\"Open In Colab\"/></a>"
      ]
    },
    {
      "cell_type": "code",
      "metadata": {
        "id": "VBVxbnuW9iFd"
      },
      "source": [
        "#Làm việc với Pandas\r\n",
        "\r\n",
        "import pandas as pd\r\n",
        "import numpy as np\r\n",
        "import matplotlib.pyplot as plt\r\n",
        "import csv"
      ],
      "execution_count": null,
      "outputs": []
    },
    {
      "cell_type": "code",
      "metadata": {
        "id": "sGShMk1G9-yH"
      },
      "source": [
        "#1. Khởi tạo series\r\n",
        "print(\"1. Khoi tao series\")\r\n",
        "\r\n",
        "with open('writeData.csv', mode='w') as file:\r\n",
        "    writer = csv.writer(file, delimiter=',', quotechar='\"', quoting=csv.QUOTE_MINIMAL)\r\n",
        "    writer.writerow(['Class', 'Name', 'Age'])\r\n",
        "    writer.writerow(['B1', 'Hien','18'])\r\n",
        "    writer.writerow(['B2', 'Buu','18'])\r\n",
        "    writer.writerow(['B3', 'Tham', '19'])\r\n",
        "    writer.writerow(['B2', 'Duy','20'])\r\n",
        "    writer.writerow(['B3', 'Phong', '18'])\r\n",
        "    writer.writerow(['B1', 'Thang','18'])\r\n",
        "    writer.writerow(['B1', 'Phuoc','21'])\r\n",
        "    writer.writerow(['B2', 'Ngan','19'])\r\n",
        "    writer.writerow(['B1', 'Thanh','21'])\r\n",
        "    writer.writerow(['B3', 'Quan', '18'])\r\n",
        "\r\n",
        "result = pd.read_csv('writeData.csv')\r\n",
        "print(result)\r\n",
        "print(\"---------------------------------------\")\r\n"
      ],
      "execution_count": null,
      "outputs": []
    },
    {
      "cell_type": "code",
      "metadata": {
        "id": "5m8Qxpnz-IN6"
      },
      "source": [
        "#2. Sorting\r\n",
        "s = pd.Series([np.nan, 1, 3, 10, 5]) #cho ra 1 kết quả theo thứ tự: NaN, 1.0, 3.0, 10.0, 5.0\r\n",
        "t = s.sort_values(ascending=True) #Sắp xếp lại theo thứ tự tăng dần: 1.0, 3.0, 5.0, 10.0/False thì ngược lại\r\n",
        "print(t)\r\n",
        "print(\"-------------------------------------\")"
      ],
      "execution_count": null,
      "outputs": []
    },
    {
      "cell_type": "code",
      "metadata": {
        "id": "VbpImK2e-OGa"
      },
      "source": [
        "#3. Combine Dataframes\r\n",
        "dict_data = {'Treatment': ['C', 'C', 'C'], 'Biorep': ['A', 'A', 'A'], 'Techrep': [1, 1, 1], 'AAseq': ['ELVISLIVES', 'ELVISLIVES', 'ELVISLIVES'], 'mz':[500.0, 500.5, 501.0]}\r\n",
        "df_a = pd.DataFrame(dict_data)\r\n",
        "dict_data = {'Treatment1': ['C', 'C', 'C'], 'Biorep1': ['A', 'A', 'A'], 'Techrep1': [1, 1, 1], 'AAseq1': ['ELVISLIVES', 'ELVISLIVES', 'ELVISLIVES'], 'inte1':[1100.0, 1050.0, 1010.0]}\r\n",
        "df_b = pd.DataFrame(dict_data)\r\n",
        "\r\n",
        "#3.1. Dùng concat\r\n",
        "pd.concat([df_a,df_b], axis=1)\r\n",
        "\r\n",
        "#3.2. Dùng merge: Sử dụng khi ko có các cột xung đột, có cùng số hàng\r\n",
        "df_a.merge(df_b, left_index=True, right_index=True)\r\n",
        "\r\n",
        "#3.3. Dùng join: lý do tương tự merge\r\n",
        "df_a.join(df_b)\r\n",
        "print(\"-------------------------------------\")"
      ],
      "execution_count": null,
      "outputs": []
    },
    {
      "cell_type": "code",
      "metadata": {
        "id": "zCsnLyTH-Sgg"
      },
      "source": [
        "#4. Đọc csv, json,...\r\n",
        "result = pd.read_csv('Data.csv') #Đọc file csv trong máy\r\n",
        "print(result.head()) \r\n",
        "td = 'https://data.cese.nsw.gov.au/data/dataset/f0880fef-1dc8-37e3-905b-d2b015375510/resource/f794e36a-91e3-422a-beda-9ba8d2e9a58e/download/table-21-2019-enrolments-in-year-10-subjects.csv'\r\n",
        "data = pd.read_csv(td) #đọc file csv trên mạng \r\n",
        "print(data.head())\r\n",
        "js = 'https://data.cese.nsw.gov.au/data/dataset/1a8ee944-e56c-3480-aaf9-683047aa63a0/resource/64f0e82f-f678-4cec-9283-0b343aff1c61/download/headcount.json'\r\n",
        "datat = pd.read_json(js) #đọc file json trên mạng\r\n",
        "print(datat.head())\r\n",
        "print(\"----------------------------------------\")"
      ],
      "execution_count": null,
      "outputs": []
    },
    {
      "cell_type": "code",
      "metadata": {
        "id": "Lcnx7loY-Wim"
      },
      "source": [
        "#5. Tính thống kê: min, max, avg\r\n",
        "data = {'Month': ['Jan ','Feb ','Mar ','Apr ','May ','Jun '],\r\n",
        "        'Jon Commission': [7000,5500,6000,4500,8000,6000],\r\n",
        "        'Maria Commission': [10000,7500,6500,6000,9000,8500], \r\n",
        "        'Olivia Commission': [3000,6000,4500,4500,4000,5500]} \r\n",
        "df = pd.DataFrame(data,columns=['Month','Jon Commission','Maria Commission','Olivia Commission']) #tạo dataframe \r\n",
        "avg_columns = df.mean(axis=0) #Thu nhập trung bình từ nhiệm vụ trong 6 tháng\r\n",
        "max_columns = df.max(axis=0) #Thu nhập cao nhất từ nhiệm vụ trong 6 tháng\r\n",
        "min_columns = df.min(axis=0) #Thu nhập thấp nhất từ nhiệm vụ trong 6 tháng\r\n",
        "print(min_columns)\r\n",
        "print(max_columns)\r\n",
        "print(avg_columns)"
      ],
      "execution_count": null,
      "outputs": []
    },
    {
      "cell_type": "code",
      "metadata": {
        "id": "0uqlyeMr-ZuF"
      },
      "source": [
        "#6.Vẽ hình (bằng matplotlib)\r\n",
        "excel_file = 'C:\\\\Users\\\\DUC-PC\\\\Downloads\\\\movies.xls'\r\n",
        "movies = pd.read_excel(excel_file) #đọc file movies.xls\r\n",
        "movies_subset = movies[['Year', 'Gross Earnings']] #Ta chọn Năm làm cột chỉ mục và Tổng thu nhập làm cột tóm tắt -> tạo một DataFrame riêng\r\n",
        "movies_subset.head()\r\n",
        "earnings_by_year = movies_subset.pivot_table(index=['Year']) # lấy một chỉ số tham số\r\n",
        "earnings_by_year.head()\r\n",
        "earnings_by_year.plot() #Tạo biểu đồ thu nhập từng năm \r\n",
        "plt.show()"
      ],
      "execution_count": null,
      "outputs": []
    }
  ]
}