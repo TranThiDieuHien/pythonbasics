{
  "nbformat": 4,
  "nbformat_minor": 0,
  "metadata": {
    "colab": {
      "name": "Numpy_Hien.ipynb",
      "provenance": [],
      "authorship_tag": "ABX9TyNme1PisAB+T+5Sui0sd+9A",
      "include_colab_link": true
    },
    "kernelspec": {
      "name": "python3",
      "display_name": "Python 3"
    }
  },
  "cells": [
    {
      "cell_type": "markdown",
      "metadata": {
        "id": "view-in-github",
        "colab_type": "text"
      },
      "source": [
        "<a href=\"https://colab.research.google.com/github/TranThiDieuHien/pythonbasics/blob/master/Numpy_DHien.ipynb\" target=\"_parent\"><img src=\"https://colab.research.google.com/assets/colab-badge.svg\" alt=\"Open In Colab\"/></a>"
      ]
    },
    {
      "cell_type": "code",
      "metadata": {
        "colab": {
          "base_uri": "https://localhost:8080/"
        },
        "id": "MFkUEJ6LSikB",
        "outputId": "fb089c9c-4145-4554-bfae-01f9df2b25d2"
      },
      "source": [
        "import numpy as np\r\n",
        "from sympy import Matrix\r\n",
        "\r\n",
        "def matran(n): #ham tao random ma tran a\r\n",
        "    a = np.random.randint(low=10, size=(n, n))\r\n",
        "    return a\r\n",
        "\r\n",
        "\r\n",
        "def chuyen_vi(a): #ham tim ma tran chuyen vi cua ma tran a\r\n",
        "    c = np.transpose(a)\r\n",
        "    return c\r\n",
        "\r\n",
        "\r\n",
        "def rank_matran(a): #ham tim rank cua ma tran a\r\n",
        "    r = np.linalg.matrix_rank(a)\r\n",
        "    return r\r\n",
        "\r\n",
        "\r\n",
        "def bac_thang(a): #ham tim ma tran bac thang cua ma tran a\r\n",
        "    a = Matrix(a)\r\n",
        "    b = Matrix.rref(a)\r\n",
        "    return np.array(b[0])\r\n",
        "\r\n",
        "\r\n",
        "mt = np.array([[1, 2, 3],\r\n",
        "               [2, 1, 3],\r\n",
        "               [1, 1, 2]])\r\n",
        "n = int(input(\"Nhap n: \"))\r\n",
        "a = matran(n) #ma tran random a\r\n",
        "r = rank_matran(a) #rank cua ma tran a\r\n",
        "b = bac_thang(a) #ma tran bac thang cua a\r\n",
        "c = chuyen_vi(a) #ma tran chuyen vi cua a\r\n",
        "don_vi = np.eye(3, 4)\r\n",
        "\r\n",
        "print(\"Ma tran a: \\n\", a)\r\n",
        "print(\"Ma tran mt: \\n\", mt)\r\n",
        "print(\"Rank ma tran:\", r)\r\n",
        "print(\"Ma tran bac thang cua a: \\n\", b)\r\n",
        "print(\"Ma tran chuyen vi cua a: \\n\", c)\r\n",
        "print(\"Nhan 2 ma tran: \\n\", a@mt)\r\n",
        "print(\"Cong 2 ma tran \\n \", a+mt)\r\n",
        "print(\"Tru 2 ma tran \\n \", a-mt)\r\n",
        "print(\"Ma tran don vi \\n\", don_vi)"
      ],
      "execution_count": 7,
      "outputs": [
        {
          "output_type": "stream",
          "text": [
            "Nhap n: 3\n",
            "Ma tran a: \n",
            " [[2 4 8]\n",
            " [0 4 5]\n",
            " [9 7 0]]\n",
            "Ma tran mt: \n",
            " [[1 2 3]\n",
            " [2 1 3]\n",
            " [1 1 2]]\n",
            "Rank ma tran: 3\n",
            "Ma tran bac thang cua a: \n",
            " [[1 0 0]\n",
            " [0 1 0]\n",
            " [0 0 1]]\n",
            "Ma tran chuyen vi cua a: \n",
            " [[2 0 9]\n",
            " [4 4 7]\n",
            " [8 5 0]]\n",
            "Nhan 2 ma tran: \n",
            " [[18 16 34]\n",
            " [13  9 22]\n",
            " [23 25 48]]\n",
            "Cong 2 ma tran \n",
            "  [[ 3  6 11]\n",
            " [ 2  5  8]\n",
            " [10  8  2]]\n",
            "Tru 2 ma tran \n",
            "  [[ 1  2  5]\n",
            " [-2  3  2]\n",
            " [ 8  6 -2]]\n",
            "Ma tran don vi \n",
            " [[1. 0. 0. 0.]\n",
            " [0. 1. 0. 0.]\n",
            " [0. 0. 1. 0.]]\n"
          ],
          "name": "stdout"
        }
      ]
    }
  ]
}