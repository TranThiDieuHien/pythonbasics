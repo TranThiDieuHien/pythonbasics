{
  "nbformat": 4,
  "nbformat_minor": 0,
  "metadata": {
    "colab": {
      "name": "techniques-bs.ipynb",
      "provenance": [],
      "include_colab_link": true
    },
    "kernelspec": {
      "name": "python3",
      "display_name": "Python 3"
    }
  },
  "cells": [
    {
      "cell_type": "markdown",
      "metadata": {
        "id": "view-in-github",
        "colab_type": "text"
      },
      "source": [
        "<a href=\"https://colab.research.google.com/github/TranThiDieuHien/pythonbasics/blob/master/techniques_TTDH5.ipynb\" target=\"_parent\"><img src=\"https://colab.research.google.com/assets/colab-badge.svg\" alt=\"Open In Colab\"/></a>"
      ]
    },
    {
      "cell_type": "code",
      "metadata": {
        "id": "g_wNfBHaS4N4"
      },
      "source": [
        "from bs4 import BeautifulSoup\r\n",
        "import requests\r\n",
        "import os\r\n",
        "import re\r\n",
        "import web"
      ],
      "execution_count": 31,
      "outputs": []
    },
    {
      "cell_type": "markdown",
      "metadata": {
        "id": "nxCw7AZAZrUy"
      },
      "source": [
        "1 Tải 1 url về"
      ]
    },
    {
      "cell_type": "code",
      "metadata": {
        "id": "gUabxirVZibE"
      },
      "source": [
        "url = 'https://vietnamnet.vn/vn/kinh-doanh/dau-tu/nha-dau-tu-eu-muon-rot-ty-usd-xay-trung-tam-logistics-o-phu-my-704586.html'\r\n",
        "#Gửi yêu cầu truy cập url\r\n",
        "page = requests.get(url)\r\n",
        "soup = BeautifulSoup(page.text, \"html.parser\")\r\n",
        "html = soup.prettify()\r\n",
        "print(html)"
      ],
      "execution_count": null,
      "outputs": []
    },
    {
      "cell_type": "markdown",
      "metadata": {
        "id": "osKHdc80ZwDV"
      },
      "source": [
        "2. Lưu 1 html vào thư mục chỉ định"
      ]
    },
    {
      "cell_type": "code",
      "metadata": {
        "id": "-gvDk-nlZzLo"
      },
      "source": [
        "path = 'C:\\\\Users\\\\DELL\\\\'\r\n",
        "os.chdir(path)\r\n",
        "t = 'url_list'\r\n",
        "os.mkdir(t) \r\n",
        "path1= path + t\r\n",
        "os.chdir(path1)\r\n",
        "file = \"html_file\" + \".txt\"\r\n",
        "f = open(file, \"w\")\r\n",
        "f.write(html)\r\n",
        "f.close()\r\n",
        "print(f)\r\n"
      ],
      "execution_count": null,
      "outputs": []
    },
    {
      "cell_type": "markdown",
      "metadata": {
        "id": "BcKYLfcxZ-Hn"
      },
      "source": [
        "3. Cách lấy 1 phần tử đầu tiên ra khỏi list và xóa nó khỏi list"
      ]
    },
    {
      "cell_type": "code",
      "metadata": {
        "id": "rjRGJjQiaB-Y",
        "colab": {
          "base_uri": "https://localhost:8080/"
        },
        "outputId": "9fbdc3da-bdec-4b26-c682-c735deafee4f"
      },
      "source": [
        "name = [1,2,3,4,5]\r\n",
        "del name[0] #Name là 1 list, hàm này lấy phần tử đầu tiên ra khỏi list này và xóa nó\r\n",
        "print(name)"
      ],
      "execution_count": null,
      "outputs": [
        {
          "output_type": "stream",
          "text": [
            "[2, 3, 4, 5]\n"
          ],
          "name": "stdout"
        }
      ]
    },
    {
      "cell_type": "markdown",
      "metadata": {
        "id": "pfd7r87vaDSZ"
      },
      "source": [
        "4. Cách lấy các url trong html"
      ]
    },
    {
      "cell_type": "code",
      "metadata": {
        "id": "osOcronYaGuY"
      },
      "source": [
        "def lay_cac_duong_link(soup):\r\n",
        "    url_list=[]\r\n",
        "    result = []\r\n",
        "    raw = soup.find_all(\"a\")\r\n",
        "    #print(len(raw))\r\n",
        "    for item in raw :\r\n",
        "        link = item.get(\"href\")     #Lấy các đường dẫn trong href\r\n",
        "        #print(link)\r\n",
        "        url_list.append(link)\r\n",
        "        #print(len(url_list))\r\n",
        "    for item in url_list:\r\n",
        "        item = str(item)\r\n",
        "        if (item.find(\"http\", 0, 4)):\r\n",
        "            if (item.find(\"java\", 0, 4)):\r\n",
        "                if item.find(\"html\", (len(item)-4), len(item)):\r\n",
        "                    if (item.find(\"#\", 0, 4)): \r\n",
        "                        if (item.find(\"None\", 0, 4)):\r\n",
        "                            if len(item) > 2:\r\n",
        "                                result.append(item)       \r\n",
        "        if not(item.find(\"http\", 0, 4)):\r\n",
        "            result.append(item)\r\n",
        "    return result\r\n",
        "\r\n",
        "\r\n",
        "#Hàm kiểm tra tính hợp lệ của đường link\r\n",
        "#Kết quả kiểm tra trả về: True nếu hợp lệ và False nếu không hợp lệ\r\n",
        "def Kiem_tra_duong_link(link):\r\n",
        "    check = re.search(\"^http\", link)\r\n",
        "    try:\r\n",
        "        if link == check.string:\r\n",
        "            return True\r\n",
        "    except:\r\n",
        "        return False\r\n",
        "\r\n",
        "\r\n",
        "#hàm chỉnh sửa đường link nếu đường link không hợp lệ (Thiếu https)\r\n",
        "#Kết quả trả về: 1 đường link hợp lệ\r\n",
        "def chinh_sua_link(url, item):\r\n",
        "    item = item.split(\" \")\r\n",
        "    url_moi = str(url) + item[0]\r\n",
        "    return url_moi\r\n",
        "\r\n",
        "                      \r\n",
        "\r\n"
      ],
      "execution_count": 33,
      "outputs": []
    }
  ]
}