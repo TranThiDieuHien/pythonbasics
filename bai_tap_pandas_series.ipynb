{
  "nbformat": 4,
  "nbformat_minor": 0,
  "metadata": {
    "kernelspec": {
      "display_name": "Python 3",
      "language": "python",
      "name": "python3"
    },
    "language_info": {
      "codemirror_mode": {
        "name": "ipython",
        "version": 3
      },
      "file_extension": ".py",
      "mimetype": "text/x-python",
      "name": "python",
      "nbconvert_exporter": "python",
      "pygments_lexer": "ipython3",
      "version": "3.7.3"
    },
    "colab": {
      "name": "bai-tap-pandas-series.ipynb",
      "provenance": [],
      "include_colab_link": true
    }
  },
  "cells": [
    {
      "cell_type": "markdown",
      "metadata": {
        "id": "view-in-github",
        "colab_type": "text"
      },
      "source": [
        "<a href=\"https://colab.research.google.com/github/TranThiDieuHien/pythonbasics/blob/master/bai_tap_pandas_series.ipynb\" target=\"_parent\"><img src=\"https://colab.research.google.com/assets/colab-badge.svg\" alt=\"Open In Colab\"/></a>"
      ]
    },
    {
      "cell_type": "markdown",
      "metadata": {
        "id": "bsBLvLX2BUl0"
      },
      "source": [
        "Câu 1: Hãy tạo 1 đối tượng kiểu Series có tối thiểu 10 phần tử (kiểu số) với giá trị tùy ý thích của bạn. \n",
        "       In giá trị của Series đó ra màn hình"
      ]
    },
    {
      "cell_type": "code",
      "metadata": {
        "colab": {
          "base_uri": "https://localhost:8080/"
        },
        "id": "494nlqETBUmK",
        "outputId": "118bfd96-26ee-46bb-cec6-03aca8b2827c"
      },
      "source": [
        "import pandas as pd\r\n",
        "import random\r\n",
        "\r\n",
        "sers = []\r\n",
        "for i in range(15): #15 phần tử\r\n",
        "    a = random.randrange(-100, 100)\r\n",
        "    sers.append(a)\r\n",
        "\r\n",
        "s = pd.Series(sers)\r\n",
        "print(s)"
      ],
      "execution_count": 27,
      "outputs": [
        {
          "output_type": "stream",
          "text": [
            "0      6\n",
            "1     78\n",
            "2    -97\n",
            "3    -80\n",
            "4     72\n",
            "5    -49\n",
            "6     14\n",
            "7     93\n",
            "8    -80\n",
            "9     51\n",
            "10    -3\n",
            "11   -15\n",
            "12   -30\n",
            "13    82\n",
            "14     7\n",
            "dtype: int64\n"
          ],
          "name": "stdout"
        }
      ]
    },
    {
      "cell_type": "markdown",
      "metadata": {
        "id": "oimMIB5hBUmN"
      },
      "source": [
        "Câu 2: Hãy tạo 1 đối tượng kiểu Series với giá trị khởi tạo hình thành từ dữ liệu kiểu Dictionary. In kết quả ra màn hình"
      ]
    },
    {
      "cell_type": "code",
      "metadata": {
        "colab": {
          "base_uri": "https://localhost:8080/"
        },
        "id": "uWf2jCjrBUmO",
        "outputId": "58a4378e-6d26-47e1-bd97-2040fcfaacd2"
      },
      "source": [
        "data = {\"Hien\" : 1, \"Tham\" : 2, \"Thanh\" : 3, \"Duy\" : 4, \"Ngan\" : 5, \"Uyen\" : 6}\r\n",
        "D = pd.Series(data, index = [\"Hien\", \"Tham\", \"Thanh\", \"Duy\", \"Ngan\", \"Uyen\"])\r\n",
        "print(D)"
      ],
      "execution_count": 28,
      "outputs": [
        {
          "output_type": "stream",
          "text": [
            "Hien     1\n",
            "Tham     2\n",
            "Thanh    3\n",
            "Duy      4\n",
            "Ngan     5\n",
            "Uyen     6\n",
            "dtype: int64\n"
          ],
          "name": "stdout"
        }
      ]
    },
    {
      "cell_type": "markdown",
      "metadata": {
        "id": "MkHC83s9BUmP"
      },
      "source": [
        "Câu 3: Sử dụng series ở câu 1, hãy thay đổi giá trị của cột index từ kiểu số theo kiểu ký tự với giá trị do bạn tự xác định."
      ]
    },
    {
      "cell_type": "code",
      "metadata": {
        "colab": {
          "base_uri": "https://localhost:8080/"
        },
        "id": "NwneAw8xBUmQ",
        "outputId": "96695a28-9548-40b8-98b9-d09c773e173b"
      },
      "source": [
        "ser = pd.Series(sers, index = [\"AB12\", \"C23\", \"GD34\", \"DE45\", \"EF56\",\r\n",
        "                            \"FG45\", \"GH45\", \"HI23\", \"IK12\", \"KL12\",\r\n",
        "                            \"LM12\", \"MN23\", \"FO23\", \"GP34\", \"GQ34\"])\r\n",
        "print(ser)"
      ],
      "execution_count": 38,
      "outputs": [
        {
          "output_type": "stream",
          "text": [
            "AB12     6\n",
            "C23     78\n",
            "GD34   -97\n",
            "DE45   -80\n",
            "EF56    72\n",
            "FG45   -49\n",
            "GH45    14\n",
            "HI23    93\n",
            "IK12   -80\n",
            "KL12    51\n",
            "LM12    -3\n",
            "MN23   -15\n",
            "FO23   -30\n",
            "GP34    82\n",
            "GQ34     7\n",
            "dtype: int64\n"
          ],
          "name": "stdout"
        }
      ]
    },
    {
      "cell_type": "markdown",
      "metadata": {
        "id": "3Fh0AFWABUmR"
      },
      "source": [
        "Câu 4: Sử dụng series ở câu 2, hãy truy cập đến phần tử thứ 5 và in ra màn hình"
      ]
    },
    {
      "cell_type": "code",
      "metadata": {
        "colab": {
          "base_uri": "https://localhost:8080/"
        },
        "id": "pjxeGNbABUmR",
        "outputId": "3298a402-e39a-4b9f-bdf7-8f1a047285b0"
      },
      "source": [
        "print(D[4])"
      ],
      "execution_count": 30,
      "outputs": [
        {
          "output_type": "stream",
          "text": [
            "5\n"
          ],
          "name": "stdout"
        }
      ]
    },
    {
      "cell_type": "markdown",
      "metadata": {
        "id": "5z4BsTB1BUmZ"
      },
      "source": [
        "Câu 5: Sử dụng series ở câu 3, hãy truy cập đến 1 phần tử dựa theo chỉ số kiểu ký tự do bạn lựa chọn và in ra màn hình"
      ]
    },
    {
      "cell_type": "code",
      "metadata": {
        "colab": {
          "base_uri": "https://localhost:8080/"
        },
        "id": "FxyDk8GHBUma",
        "outputId": "8d1e4e05-6d64-477e-9229-30eda55a960e"
      },
      "source": [
        "print(ser[\"AB12\"], ser[\"FO23\"], ser[\"KL12\"], ser[\"FG45\"])"
      ],
      "execution_count": 31,
      "outputs": [
        {
          "output_type": "stream",
          "text": [
            "6 -30 51 -49\n"
          ],
          "name": "stdout"
        }
      ]
    },
    {
      "cell_type": "markdown",
      "metadata": {
        "id": "JI07wItdBUmb"
      },
      "source": [
        "Câu 6: Sử dụng series ở câu 3, hãy tìm ra tính chất đặc thù trong các chỉ số kiểu kí tự, thực hiện vòng lặp for duyệt trên các chỉ mục kiểu kí tự này để lọc ra những phần tử thỏa mãn điều kiện và in ra màn hình"
      ]
    },
    {
      "cell_type": "code",
      "metadata": {
        "colab": {
          "base_uri": "https://localhost:8080/"
        },
        "id": "efqlxp4gBUmc",
        "outputId": "5c8baa62-8a18-4372-a070-b5798d59db17"
      },
      "source": [
        "print(ser[[name.endswith(\"3\") or name.startswith(\"G\") for name in ser.index]])"
      ],
      "execution_count": 32,
      "outputs": [
        {
          "output_type": "stream",
          "text": [
            "C23     78\n",
            "GD34   -97\n",
            "GH45    14\n",
            "HI23    93\n",
            "MN23   -15\n",
            "FO23   -30\n",
            "GP34    82\n",
            "GQ34     7\n",
            "dtype: int64\n"
          ],
          "name": "stdout"
        }
      ]
    },
    {
      "cell_type": "markdown",
      "metadata": {
        "id": "gaTaZMilBUmc"
      },
      "source": [
        "Câu 7: Sử dụng series ở câu 1, hãy đổi tên cột index thành 'STT' và đặt tên cho series là 'Gia_tri'. In kết quả ra màn hình "
      ]
    },
    {
      "cell_type": "code",
      "metadata": {
        "colab": {
          "base_uri": "https://localhost:8080/"
        },
        "id": "EoNaKDjRBUmd",
        "outputId": "0bb1eec0-67da-4189-83a0-7cf131489629"
      },
      "source": [
        "s.index.name = \"STT\"\r\n",
        "s.name = \"Gia_Tri\"\r\n",
        "print(s)"
      ],
      "execution_count": 33,
      "outputs": [
        {
          "output_type": "stream",
          "text": [
            "STT\n",
            "0      6\n",
            "1     78\n",
            "2    -97\n",
            "3    -80\n",
            "4     72\n",
            "5    -49\n",
            "6     14\n",
            "7     93\n",
            "8    -80\n",
            "9     51\n",
            "10    -3\n",
            "11   -15\n",
            "12   -30\n",
            "13    82\n",
            "14     7\n",
            "Name: Gia_Tri, dtype: int64\n"
          ],
          "name": "stdout"
        }
      ]
    },
    {
      "cell_type": "markdown",
      "metadata": {
        "id": "A7Ys9BIDBUme"
      },
      "source": [
        "Câu 8: Hãy áp dụng hàm logarith của gói numpy với series ở câu 1 và in kết quả ra màn hình"
      ]
    },
    {
      "cell_type": "code",
      "metadata": {
        "colab": {
          "base_uri": "https://localhost:8080/"
        },
        "id": "nUJni9IMBUme",
        "outputId": "f8d6aa9d-f5ca-43a3-c089-9a869fdfdc0f"
      },
      "source": [
        "import numpy as np\r\n",
        "\r\n",
        "np.log(s)"
      ],
      "execution_count": 34,
      "outputs": [
        {
          "output_type": "stream",
          "text": [
            "/usr/local/lib/python3.7/dist-packages/pandas/core/series.py:726: RuntimeWarning: invalid value encountered in log\n",
            "  result = getattr(ufunc, method)(*inputs, **kwargs)\n"
          ],
          "name": "stderr"
        },
        {
          "output_type": "execute_result",
          "data": {
            "text/plain": [
              "STT\n",
              "0     1.791759\n",
              "1     4.356709\n",
              "2          NaN\n",
              "3          NaN\n",
              "4     4.276666\n",
              "5          NaN\n",
              "6     2.639057\n",
              "7     4.532599\n",
              "8          NaN\n",
              "9     3.931826\n",
              "10         NaN\n",
              "11         NaN\n",
              "12         NaN\n",
              "13    4.406719\n",
              "14    1.945910\n",
              "Name: Gia_Tri, dtype: float64"
            ]
          },
          "metadata": {
            "tags": []
          },
          "execution_count": 34
        }
      ]
    },
    {
      "cell_type": "markdown",
      "metadata": {
        "id": "Tz2HtFodBUmf"
      },
      "source": [
        "Câu 9: Lọc các giá trị của series 1 > 15 và in ra màn hình"
      ]
    },
    {
      "cell_type": "code",
      "metadata": {
        "colab": {
          "base_uri": "https://localhost:8080/"
        },
        "id": "ZzHKgpGxBUmg",
        "outputId": "7ef7e24f-ecf0-4d20-e79b-4a159414a447"
      },
      "source": [
        "se = []      #Để chứa các giá trị của series 1 > 15\r\n",
        "for row in s:\r\n",
        "    if row > 15:\r\n",
        "        se.append(row)    #Thêm các giá trị của series 1 > 15 vào \r\n",
        "\r\n",
        "srs = pd.Series(se)\r\n",
        "print(srs)\r\n",
        "        "
      ],
      "execution_count": 50,
      "outputs": [
        {
          "output_type": "stream",
          "text": [
            "0    78\n",
            "1    72\n",
            "2    93\n",
            "3    51\n",
            "4    82\n",
            "dtype: int64\n"
          ],
          "name": "stdout"
        }
      ]
    }
  ]
}