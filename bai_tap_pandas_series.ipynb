{
  "nbformat": 4,
  "nbformat_minor": 0,
  "metadata": {
    "kernelspec": {
      "display_name": "Python 3",
      "language": "python",
      "name": "python3"
    },
    "language_info": {
      "codemirror_mode": {
        "name": "ipython",
        "version": 3
      },
      "file_extension": ".py",
      "mimetype": "text/x-python",
      "name": "python",
      "nbconvert_exporter": "python",
      "pygments_lexer": "ipython3",
      "version": "3.7.3"
    },
    "colab": {
      "name": "bai-tap-pandas-series.ipynb",
      "provenance": [],
      "include_colab_link": true
    }
  },
  "cells": [
    {
      "cell_type": "markdown",
      "metadata": {
        "id": "view-in-github",
        "colab_type": "text"
      },
      "source": [
        "<a href=\"https://colab.research.google.com/github/TranThiDieuHien/pythonbasics/blob/master/bai_tap_pandas_series.ipynb\" target=\"_parent\"><img src=\"https://colab.research.google.com/assets/colab-badge.svg\" alt=\"Open In Colab\"/></a>"
      ]
    },
    {
      "cell_type": "markdown",
      "metadata": {
        "id": "bsBLvLX2BUl0"
      },
      "source": [
        "Câu 1: Hãy tạo 1 đối tượng kiểu Series có tối thiểu 10 phần tử (kiểu số) với giá trị tùy ý thích của bạn. \n",
        "       In giá trị của Series đó ra màn hình"
      ]
    },
    {
      "cell_type": "code",
      "metadata": {
        "id": "494nlqETBUmK",
        "outputId": "9a394ac8-428c-4844-e62b-7f97ddd89bc6",
        "colab": {
          "base_uri": "https://localhost:8080/"
        }
      },
      "source": [
        "import pandas as pd\r\n",
        "import random\r\n",
        "\r\n",
        "sers = []\r\n",
        "for i in range(15): #15 phần tử\r\n",
        "    a = random.randrange(-100, 100)\r\n",
        "    sers.append(a)\r\n",
        "\r\n",
        "print(pd.Series(sers))"
      ],
      "execution_count": 27,
      "outputs": [
        {
          "output_type": "stream",
          "text": [
            "0    -84\n",
            "1    -73\n",
            "2     -8\n",
            "3    -31\n",
            "4     42\n",
            "5     70\n",
            "6      2\n",
            "7     -5\n",
            "8     -3\n",
            "9     61\n",
            "10   -97\n",
            "11    36\n",
            "12    56\n",
            "13    92\n",
            "14    -1\n",
            "dtype: int64\n"
          ],
          "name": "stdout"
        }
      ]
    },
    {
      "cell_type": "markdown",
      "metadata": {
        "id": "oimMIB5hBUmN"
      },
      "source": [
        "Câu 2: Hãy tạo 1 đối tượng kiểu Series với giá trị khởi tạo hình thành từ dữ liệu kiểu Dictionary. In kết quả ra màn hình"
      ]
    },
    {
      "cell_type": "code",
      "metadata": {
        "id": "uWf2jCjrBUmO"
      },
      "source": [
        "data = {\"Hien\" : 1, \"Tham\" : 2, \"Thanh\" : 3, \"Duy\" : 4, \"Ngan\" : 5, \"Uyen\" : 6}\r\n",
        "D = pd.Series(data, index = [\"Hien\", \"Tham\", \"Thanh\", \"Duy\", \"Ngan\", \"Uyen\"])\r\n",
        "print(D)"
      ],
      "execution_count": null,
      "outputs": []
    },
    {
      "cell_type": "markdown",
      "metadata": {
        "id": "MkHC83s9BUmP"
      },
      "source": [
        "Câu 3: Sử dụng series ở câu 1, hãy thay đổi giá trị của cột index từ kiểu số theo kiểu ký tự với giá trị do bạn tự xác định."
      ]
    },
    {
      "cell_type": "code",
      "metadata": {
        "id": "NwneAw8xBUmQ",
        "outputId": "2298d845-be34-4b99-84ec-dc78ff13853d",
        "colab": {
          "base_uri": "https://localhost:8080/"
        }
      },
      "source": [
        "ser = pd.Series(sers, index = [\"AB12\", \"C23\", \"GD34\", \"DE45\", \"EF56\",\r\n",
        "                            \"FG45\", \"GH45\", \"HI23\", \"IK12\", \"KL12\",\r\n",
        "                            \"LM12\", \"MN23\", \"FO23\", \"GP34\", \"GQ34\"])\r\n",
        "print(ser)"
      ],
      "execution_count": 74,
      "outputs": [
        {
          "output_type": "stream",
          "text": [
            "AB12   -84\n",
            "C23    -73\n",
            "GD34    -8\n",
            "DE45   -31\n",
            "EF56    42\n",
            "FG45    70\n",
            "GH45     2\n",
            "HI23    -5\n",
            "IK12    -3\n",
            "KL12    61\n",
            "LM12   -97\n",
            "MN23    36\n",
            "FO23    56\n",
            "GP34    92\n",
            "GQ34    -1\n",
            "dtype: int64\n"
          ],
          "name": "stdout"
        }
      ]
    },
    {
      "cell_type": "markdown",
      "metadata": {
        "id": "3Fh0AFWABUmR"
      },
      "source": [
        "Câu 4: Sử dụng series ở câu 2, hãy truy cập đến phần tử thứ 5 và in ra màn hình"
      ]
    },
    {
      "cell_type": "code",
      "metadata": {
        "id": "pjxeGNbABUmR"
      },
      "source": [
        "print(D[4])"
      ],
      "execution_count": null,
      "outputs": []
    },
    {
      "cell_type": "markdown",
      "metadata": {
        "id": "5z4BsTB1BUmZ"
      },
      "source": [
        "Câu 5: Sử dụng series ở câu 3, hãy truy cập đến 1 phần tử dựa theo chỉ số kiểu ký tự do bạn lựa chọn và in ra màn hình"
      ]
    },
    {
      "cell_type": "code",
      "metadata": {
        "id": "FxyDk8GHBUma"
      },
      "source": [
        "print(ser[\"A\"], ser[\"F\"], ser[\"O\"], ser[\"P\"])"
      ],
      "execution_count": null,
      "outputs": []
    },
    {
      "cell_type": "markdown",
      "metadata": {
        "id": "JI07wItdBUmb"
      },
      "source": [
        "Câu 6: Sử dụng series ở câu 3, hãy tìm ra tính chất đặc thù trong các chỉ số kiểu kí tự, thực hiện vòng lặp for duyệt trên các chỉ mục kiểu kí tự này để lọc ra những phần tử thỏa mãn điều kiện và in ra màn hình"
      ]
    },
    {
      "cell_type": "code",
      "metadata": {
        "id": "efqlxp4gBUmc",
        "outputId": "c5b25f45-0e52-40d7-94a2-640647804b2f",
        "colab": {
          "base_uri": "https://localhost:8080/"
        }
      },
      "source": [
        "print(ser[[name.endswith(\"3\") or name.startswith(\"G\") for name in ser.index]])"
      ],
      "execution_count": 75,
      "outputs": [
        {
          "output_type": "stream",
          "text": [
            "C23    -73\n",
            "GD34    -8\n",
            "GH45     2\n",
            "HI23    -5\n",
            "MN23    36\n",
            "FO23    56\n",
            "GP34    92\n",
            "GQ34    -1\n",
            "dtype: int64\n"
          ],
          "name": "stdout"
        }
      ]
    },
    {
      "cell_type": "markdown",
      "metadata": {
        "id": "gaTaZMilBUmc"
      },
      "source": [
        "Câu 7: Sử dụng series ở câu 1, hãy đổi tên cột index thành 'STT' và đặt tên cho series là 'Gia_tri'. In kết quả ra màn hình "
      ]
    },
    {
      "cell_type": "code",
      "metadata": {
        "id": "EoNaKDjRBUmd"
      },
      "source": [
        "ser.index.name = \"STT\"\r\n",
        "ser.name = \"Gia_Tri\"\r\n",
        "print(ser)"
      ],
      "execution_count": null,
      "outputs": []
    },
    {
      "cell_type": "markdown",
      "metadata": {
        "id": "A7Ys9BIDBUme"
      },
      "source": [
        "Câu 8: Hãy áp dụng hàm logarith của gói numpy với series ở câu 1 và in kết quả ra màn hình"
      ]
    },
    {
      "cell_type": "code",
      "metadata": {
        "id": "nUJni9IMBUme",
        "outputId": "725c3952-3328-4d9a-8841-7e0794ca1fd4",
        "colab": {
          "base_uri": "https://localhost:8080/"
        }
      },
      "source": [
        "import numpy as np\r\n",
        "\r\n",
        "np.log(ser)"
      ],
      "execution_count": 81,
      "outputs": [
        {
          "output_type": "stream",
          "text": [
            "/usr/local/lib/python3.7/dist-packages/pandas/core/series.py:726: RuntimeWarning: invalid value encountered in log\n",
            "  result = getattr(ufunc, method)(*inputs, **kwargs)\n"
          ],
          "name": "stderr"
        },
        {
          "output_type": "execute_result",
          "data": {
            "text/plain": [
              "STT\n",
              "AB12         NaN\n",
              "C23          NaN\n",
              "GD34         NaN\n",
              "DE45         NaN\n",
              "EF56    3.737670\n",
              "FG45    4.248495\n",
              "GH45    0.693147\n",
              "HI23         NaN\n",
              "IK12         NaN\n",
              "KL12    4.110874\n",
              "LM12         NaN\n",
              "MN23    3.583519\n",
              "FO23    4.025352\n",
              "GP34    4.521789\n",
              "GQ34         NaN\n",
              "Name: Gia_Tri, dtype: float64"
            ]
          },
          "metadata": {
            "tags": []
          },
          "execution_count": 81
        }
      ]
    },
    {
      "cell_type": "markdown",
      "metadata": {
        "id": "Tz2HtFodBUmf"
      },
      "source": [
        "Câu 9: Lọc các giá trị của series 1 > 15 và in ra màn hình"
      ]
    },
    {
      "cell_type": "code",
      "metadata": {
        "id": "ZzHKgpGxBUmg",
        "outputId": "96b1fc02-43f6-4505-b7e6-de84e8ab94f5",
        "colab": {
          "base_uri": "https://localhost:8080/"
        }
      },
      "source": [
        "print(ser[1:15])"
      ],
      "execution_count": 82,
      "outputs": [
        {
          "output_type": "stream",
          "text": [
            "STT\n",
            "C23    -73\n",
            "GD34    -8\n",
            "DE45   -31\n",
            "EF56    42\n",
            "FG45    70\n",
            "GH45     2\n",
            "HI23    -5\n",
            "IK12    -3\n",
            "KL12    61\n",
            "LM12   -97\n",
            "MN23    36\n",
            "FO23    56\n",
            "GP34    92\n",
            "GQ34    -1\n",
            "Name: Gia_Tri, dtype: int64\n"
          ],
          "name": "stdout"
        }
      ]
    }
  ]
}