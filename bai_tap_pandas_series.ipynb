{
  "nbformat": 4,
  "nbformat_minor": 0,
  "metadata": {
    "kernelspec": {
      "display_name": "Python 3",
      "language": "python",
      "name": "python3"
    },
    "language_info": {
      "codemirror_mode": {
        "name": "ipython",
        "version": 3
      },
      "file_extension": ".py",
      "mimetype": "text/x-python",
      "name": "python",
      "nbconvert_exporter": "python",
      "pygments_lexer": "ipython3",
      "version": "3.7.3"
    },
    "colab": {
      "name": "bai-tap-pandas-series.ipynb",
      "provenance": [],
      "include_colab_link": true
    }
  },
  "cells": [
    {
      "cell_type": "markdown",
      "metadata": {
        "id": "view-in-github",
        "colab_type": "text"
      },
      "source": [
        "<a href=\"https://colab.research.google.com/github/TranThiDieuHien/pythonbasics/blob/master/bai_tap_pandas_series.ipynb\" target=\"_parent\"><img src=\"https://colab.research.google.com/assets/colab-badge.svg\" alt=\"Open In Colab\"/></a>"
      ]
    },
    {
      "cell_type": "markdown",
      "metadata": {
        "id": "bsBLvLX2BUl0"
      },
      "source": [
        "Câu 1: Hãy tạo 1 đối tượng kiểu Series có tối thiểu 10 phần tử (kiểu số) với giá trị tùy ý thích của bạn. \n",
        "       In giá trị của Series đó ra màn hình"
      ]
    },
    {
      "cell_type": "code",
      "metadata": {
        "colab": {
          "base_uri": "https://localhost:8080/"
        },
        "id": "494nlqETBUmK",
        "outputId": "e959de97-4da0-46c2-f916-92dd483a205e"
      },
      "source": [
        "import pandas as pd\r\n",
        "import random\r\n",
        "\r\n",
        "sers = []\r\n",
        "for i in range(15): #15 phần tử\r\n",
        "    a = random.randrange(-100, 100)\r\n",
        "    sers.append(a)\r\n",
        "\r\n",
        "print(pd.Series(sers))"
      ],
      "execution_count": 83,
      "outputs": [
        {
          "output_type": "stream",
          "text": [
            "0     48\n",
            "1     32\n",
            "2    -28\n",
            "3     61\n",
            "4     87\n",
            "5     59\n",
            "6     58\n",
            "7      1\n",
            "8    -26\n",
            "9    -89\n",
            "10    25\n",
            "11    73\n",
            "12    43\n",
            "13   -87\n",
            "14   -37\n",
            "dtype: int64\n"
          ],
          "name": "stdout"
        }
      ]
    },
    {
      "cell_type": "markdown",
      "metadata": {
        "id": "oimMIB5hBUmN"
      },
      "source": [
        "Câu 2: Hãy tạo 1 đối tượng kiểu Series với giá trị khởi tạo hình thành từ dữ liệu kiểu Dictionary. In kết quả ra màn hình"
      ]
    },
    {
      "cell_type": "code",
      "metadata": {
        "colab": {
          "base_uri": "https://localhost:8080/"
        },
        "id": "uWf2jCjrBUmO",
        "outputId": "0d2610ec-b2fd-44a4-aaf4-40c96bc8b623"
      },
      "source": [
        "data = {\"Hien\" : 1, \"Tham\" : 2, \"Thanh\" : 3, \"Duy\" : 4, \"Ngan\" : 5, \"Uyen\" : 6}\r\n",
        "D = pd.Series(data, index = [\"Hien\", \"Tham\", \"Thanh\", \"Duy\", \"Ngan\", \"Uyen\"])\r\n",
        "print(D)"
      ],
      "execution_count": 84,
      "outputs": [
        {
          "output_type": "stream",
          "text": [
            "Hien     1\n",
            "Tham     2\n",
            "Thanh    3\n",
            "Duy      4\n",
            "Ngan     5\n",
            "Uyen     6\n",
            "dtype: int64\n"
          ],
          "name": "stdout"
        }
      ]
    },
    {
      "cell_type": "markdown",
      "metadata": {
        "id": "MkHC83s9BUmP"
      },
      "source": [
        "Câu 3: Sử dụng series ở câu 1, hãy thay đổi giá trị của cột index từ kiểu số theo kiểu ký tự với giá trị do bạn tự xác định."
      ]
    },
    {
      "cell_type": "code",
      "metadata": {
        "colab": {
          "base_uri": "https://localhost:8080/"
        },
        "id": "NwneAw8xBUmQ",
        "outputId": "7d9ca6e1-5f2b-4ba1-9c62-091835ff1e65"
      },
      "source": [
        "ser = pd.Series(sers, index = [\"AB12\", \"C23\", \"GD34\", \"DE45\", \"EF56\",\r\n",
        "                            \"FG45\", \"GH45\", \"HI23\", \"IK12\", \"KL12\",\r\n",
        "                            \"LM12\", \"MN23\", \"FO23\", \"GP34\", \"GQ34\"])\r\n",
        "print(ser)"
      ],
      "execution_count": 85,
      "outputs": [
        {
          "output_type": "stream",
          "text": [
            "AB12    48\n",
            "C23     32\n",
            "GD34   -28\n",
            "DE45    61\n",
            "EF56    87\n",
            "FG45    59\n",
            "GH45    58\n",
            "HI23     1\n",
            "IK12   -26\n",
            "KL12   -89\n",
            "LM12    25\n",
            "MN23    73\n",
            "FO23    43\n",
            "GP34   -87\n",
            "GQ34   -37\n",
            "dtype: int64\n"
          ],
          "name": "stdout"
        }
      ]
    },
    {
      "cell_type": "markdown",
      "metadata": {
        "id": "3Fh0AFWABUmR"
      },
      "source": [
        "Câu 4: Sử dụng series ở câu 2, hãy truy cập đến phần tử thứ 5 và in ra màn hình"
      ]
    },
    {
      "cell_type": "code",
      "metadata": {
        "colab": {
          "base_uri": "https://localhost:8080/"
        },
        "id": "pjxeGNbABUmR",
        "outputId": "f5f1c57c-b6af-4aca-b90c-136961415263"
      },
      "source": [
        "print(D[4])"
      ],
      "execution_count": 86,
      "outputs": [
        {
          "output_type": "stream",
          "text": [
            "5\n"
          ],
          "name": "stdout"
        }
      ]
    },
    {
      "cell_type": "markdown",
      "metadata": {
        "id": "5z4BsTB1BUmZ"
      },
      "source": [
        "Câu 5: Sử dụng series ở câu 3, hãy truy cập đến 1 phần tử dựa theo chỉ số kiểu ký tự do bạn lựa chọn và in ra màn hình"
      ]
    },
    {
      "cell_type": "code",
      "metadata": {
        "colab": {
          "base_uri": "https://localhost:8080/"
        },
        "id": "FxyDk8GHBUma",
        "outputId": "5a532107-8085-42a8-98af-1db094ce9c4b"
      },
      "source": [
        "print(ser[\"AB12\"], ser[\"FO23\"], ser[\"KL12\"], ser[\"FG45\"])"
      ],
      "execution_count": 88,
      "outputs": [
        {
          "output_type": "stream",
          "text": [
            "48 43 -89 59\n"
          ],
          "name": "stdout"
        }
      ]
    },
    {
      "cell_type": "markdown",
      "metadata": {
        "id": "JI07wItdBUmb"
      },
      "source": [
        "Câu 6: Sử dụng series ở câu 3, hãy tìm ra tính chất đặc thù trong các chỉ số kiểu kí tự, thực hiện vòng lặp for duyệt trên các chỉ mục kiểu kí tự này để lọc ra những phần tử thỏa mãn điều kiện và in ra màn hình"
      ]
    },
    {
      "cell_type": "code",
      "metadata": {
        "colab": {
          "base_uri": "https://localhost:8080/"
        },
        "id": "efqlxp4gBUmc",
        "outputId": "54844702-f828-47e4-f053-3edf64c04cc6"
      },
      "source": [
        "print(ser[[name.endswith(\"3\") or name.startswith(\"G\") for name in ser.index]])"
      ],
      "execution_count": 89,
      "outputs": [
        {
          "output_type": "stream",
          "text": [
            "C23     32\n",
            "GD34   -28\n",
            "GH45    58\n",
            "HI23     1\n",
            "MN23    73\n",
            "FO23    43\n",
            "GP34   -87\n",
            "GQ34   -37\n",
            "dtype: int64\n"
          ],
          "name": "stdout"
        }
      ]
    },
    {
      "cell_type": "markdown",
      "metadata": {
        "id": "gaTaZMilBUmc"
      },
      "source": [
        "Câu 7: Sử dụng series ở câu 1, hãy đổi tên cột index thành 'STT' và đặt tên cho series là 'Gia_tri'. In kết quả ra màn hình "
      ]
    },
    {
      "cell_type": "code",
      "metadata": {
        "colab": {
          "base_uri": "https://localhost:8080/"
        },
        "id": "EoNaKDjRBUmd",
        "outputId": "d41a1f00-72b3-45c3-99ed-d060abe91c48"
      },
      "source": [
        "ser.index.name = \"STT\"\r\n",
        "ser.name = \"Gia_Tri\"\r\n",
        "print(ser)"
      ],
      "execution_count": 90,
      "outputs": [
        {
          "output_type": "stream",
          "text": [
            "STT\n",
            "AB12    48\n",
            "C23     32\n",
            "GD34   -28\n",
            "DE45    61\n",
            "EF56    87\n",
            "FG45    59\n",
            "GH45    58\n",
            "HI23     1\n",
            "IK12   -26\n",
            "KL12   -89\n",
            "LM12    25\n",
            "MN23    73\n",
            "FO23    43\n",
            "GP34   -87\n",
            "GQ34   -37\n",
            "Name: Gia_Tri, dtype: int64\n"
          ],
          "name": "stdout"
        }
      ]
    },
    {
      "cell_type": "markdown",
      "metadata": {
        "id": "A7Ys9BIDBUme"
      },
      "source": [
        "Câu 8: Hãy áp dụng hàm logarith của gói numpy với series ở câu 1 và in kết quả ra màn hình"
      ]
    },
    {
      "cell_type": "code",
      "metadata": {
        "colab": {
          "base_uri": "https://localhost:8080/"
        },
        "id": "nUJni9IMBUme",
        "outputId": "a7fba993-52b2-47d4-ebd0-540f23876656"
      },
      "source": [
        "import numpy as np\r\n",
        "\r\n",
        "np.log(ser)"
      ],
      "execution_count": 91,
      "outputs": [
        {
          "output_type": "stream",
          "text": [
            "/usr/local/lib/python3.7/dist-packages/pandas/core/series.py:726: RuntimeWarning: invalid value encountered in log\n",
            "  result = getattr(ufunc, method)(*inputs, **kwargs)\n"
          ],
          "name": "stderr"
        },
        {
          "output_type": "execute_result",
          "data": {
            "text/plain": [
              "STT\n",
              "AB12    3.871201\n",
              "C23     3.465736\n",
              "GD34         NaN\n",
              "DE45    4.110874\n",
              "EF56    4.465908\n",
              "FG45    4.077537\n",
              "GH45    4.060443\n",
              "HI23    0.000000\n",
              "IK12         NaN\n",
              "KL12         NaN\n",
              "LM12    3.218876\n",
              "MN23    4.290459\n",
              "FO23    3.761200\n",
              "GP34         NaN\n",
              "GQ34         NaN\n",
              "Name: Gia_Tri, dtype: float64"
            ]
          },
          "metadata": {
            "tags": []
          },
          "execution_count": 91
        }
      ]
    },
    {
      "cell_type": "markdown",
      "metadata": {
        "id": "Tz2HtFodBUmf"
      },
      "source": [
        "Câu 9: Lọc các giá trị của series 1 > 15 và in ra màn hình"
      ]
    },
    {
      "cell_type": "code",
      "metadata": {
        "colab": {
          "base_uri": "https://localhost:8080/"
        },
        "id": "ZzHKgpGxBUmg",
        "outputId": "331322c7-60db-41fa-f246-23a0fbc13389"
      },
      "source": [
        "print(ser[1:15])"
      ],
      "execution_count": 92,
      "outputs": [
        {
          "output_type": "stream",
          "text": [
            "STT\n",
            "C23     32\n",
            "GD34   -28\n",
            "DE45    61\n",
            "EF56    87\n",
            "FG45    59\n",
            "GH45    58\n",
            "HI23     1\n",
            "IK12   -26\n",
            "KL12   -89\n",
            "LM12    25\n",
            "MN23    73\n",
            "FO23    43\n",
            "GP34   -87\n",
            "GQ34   -37\n",
            "Name: Gia_Tri, dtype: int64\n"
          ],
          "name": "stdout"
        }
      ]
    }
  ]
}