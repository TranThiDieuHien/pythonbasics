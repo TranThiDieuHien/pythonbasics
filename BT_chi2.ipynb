{
  "nbformat": 4,
  "nbformat_minor": 0,
  "metadata": {
    "colab": {
      "name": "BT_chi2.ipynb",
      "provenance": [],
      "authorship_tag": "ABX9TyNqTASG+OmHFveCG4Pe4oxL",
      "include_colab_link": true
    },
    "kernelspec": {
      "name": "python3",
      "display_name": "Python 3"
    },
    "language_info": {
      "name": "python"
    }
  },
  "cells": [
    {
      "cell_type": "markdown",
      "metadata": {
        "id": "view-in-github",
        "colab_type": "text"
      },
      "source": [
        "<a href=\"https://colab.research.google.com/github/TranThiDieuHien/pythonbasics/blob/master/BT_chi2.ipynb\" target=\"_parent\"><img src=\"https://colab.research.google.com/assets/colab-badge.svg\" alt=\"Open In Colab\"/></a>"
      ]
    },
    {
      "cell_type": "code",
      "metadata": {
        "id": "BysYyKIJ79bJ"
      },
      "source": [
        "import numpy as np\n",
        "import pandas as pd\n",
        "from matplotlib import pyplot as plt\n",
        "from scipy import stats, interpolate\n",
        "import seaborn as sns\n",
        "%matplotlib inline\n",
        "plt.rcParams['figure.figsize'] = [16, 9]\n",
        "plt.rcParams['figure.dpi'] = 100\n",
        "plt.rcParams.update({'font.size': 18})"
      ],
      "execution_count": 1,
      "outputs": []
    },
    {
      "cell_type": "code",
      "metadata": {
        "id": "EDSmFNIl8EBl"
      },
      "source": [
        "df = pd.read_csv('StudentsPerformance.csv')"
      ],
      "execution_count": 4,
      "outputs": []
    },
    {
      "cell_type": "code",
      "metadata": {
        "colab": {
          "base_uri": "https://localhost:8080/",
          "height": 376
        },
        "id": "EJfEeWMS8F2s",
        "outputId": "d486fa3d-ceaa-4539-8cb4-1cf931c7c700"
      },
      "source": [
        "df.sample(10)"
      ],
      "execution_count": 5,
      "outputs": [
        {
          "output_type": "execute_result",
          "data": {
            "text/html": [
              "<div>\n",
              "<style scoped>\n",
              "    .dataframe tbody tr th:only-of-type {\n",
              "        vertical-align: middle;\n",
              "    }\n",
              "\n",
              "    .dataframe tbody tr th {\n",
              "        vertical-align: top;\n",
              "    }\n",
              "\n",
              "    .dataframe thead th {\n",
              "        text-align: right;\n",
              "    }\n",
              "</style>\n",
              "<table border=\"1\" class=\"dataframe\">\n",
              "  <thead>\n",
              "    <tr style=\"text-align: right;\">\n",
              "      <th></th>\n",
              "      <th>gender</th>\n",
              "      <th>race/ethnicity</th>\n",
              "      <th>parental level of education</th>\n",
              "      <th>lunch</th>\n",
              "      <th>test preparation course</th>\n",
              "      <th>math score</th>\n",
              "      <th>reading score</th>\n",
              "      <th>writing score</th>\n",
              "    </tr>\n",
              "  </thead>\n",
              "  <tbody>\n",
              "    <tr>\n",
              "      <th>583</th>\n",
              "      <td>female</td>\n",
              "      <td>group D</td>\n",
              "      <td>associate's degree</td>\n",
              "      <td>standard</td>\n",
              "      <td>completed</td>\n",
              "      <td>73</td>\n",
              "      <td>75</td>\n",
              "      <td>80</td>\n",
              "    </tr>\n",
              "    <tr>\n",
              "      <th>356</th>\n",
              "      <td>male</td>\n",
              "      <td>group A</td>\n",
              "      <td>associate's degree</td>\n",
              "      <td>standard</td>\n",
              "      <td>none</td>\n",
              "      <td>63</td>\n",
              "      <td>61</td>\n",
              "      <td>61</td>\n",
              "    </tr>\n",
              "    <tr>\n",
              "      <th>279</th>\n",
              "      <td>male</td>\n",
              "      <td>group B</td>\n",
              "      <td>bachelor's degree</td>\n",
              "      <td>free/reduced</td>\n",
              "      <td>none</td>\n",
              "      <td>73</td>\n",
              "      <td>56</td>\n",
              "      <td>57</td>\n",
              "    </tr>\n",
              "    <tr>\n",
              "      <th>968</th>\n",
              "      <td>female</td>\n",
              "      <td>group E</td>\n",
              "      <td>associate's degree</td>\n",
              "      <td>standard</td>\n",
              "      <td>none</td>\n",
              "      <td>68</td>\n",
              "      <td>76</td>\n",
              "      <td>67</td>\n",
              "    </tr>\n",
              "    <tr>\n",
              "      <th>21</th>\n",
              "      <td>female</td>\n",
              "      <td>group B</td>\n",
              "      <td>some college</td>\n",
              "      <td>free/reduced</td>\n",
              "      <td>completed</td>\n",
              "      <td>65</td>\n",
              "      <td>75</td>\n",
              "      <td>70</td>\n",
              "    </tr>\n",
              "    <tr>\n",
              "      <th>101</th>\n",
              "      <td>male</td>\n",
              "      <td>group D</td>\n",
              "      <td>bachelor's degree</td>\n",
              "      <td>standard</td>\n",
              "      <td>completed</td>\n",
              "      <td>68</td>\n",
              "      <td>74</td>\n",
              "      <td>74</td>\n",
              "    </tr>\n",
              "    <tr>\n",
              "      <th>271</th>\n",
              "      <td>male</td>\n",
              "      <td>group C</td>\n",
              "      <td>some college</td>\n",
              "      <td>standard</td>\n",
              "      <td>none</td>\n",
              "      <td>58</td>\n",
              "      <td>49</td>\n",
              "      <td>42</td>\n",
              "    </tr>\n",
              "    <tr>\n",
              "      <th>383</th>\n",
              "      <td>female</td>\n",
              "      <td>group E</td>\n",
              "      <td>some high school</td>\n",
              "      <td>free/reduced</td>\n",
              "      <td>none</td>\n",
              "      <td>38</td>\n",
              "      <td>49</td>\n",
              "      <td>45</td>\n",
              "    </tr>\n",
              "    <tr>\n",
              "      <th>632</th>\n",
              "      <td>female</td>\n",
              "      <td>group B</td>\n",
              "      <td>bachelor's degree</td>\n",
              "      <td>standard</td>\n",
              "      <td>completed</td>\n",
              "      <td>66</td>\n",
              "      <td>74</td>\n",
              "      <td>81</td>\n",
              "    </tr>\n",
              "    <tr>\n",
              "      <th>547</th>\n",
              "      <td>male</td>\n",
              "      <td>group C</td>\n",
              "      <td>high school</td>\n",
              "      <td>standard</td>\n",
              "      <td>completed</td>\n",
              "      <td>72</td>\n",
              "      <td>67</td>\n",
              "      <td>64</td>\n",
              "    </tr>\n",
              "  </tbody>\n",
              "</table>\n",
              "</div>"
            ],
            "text/plain": [
              "     gender race/ethnicity  ... reading score writing score\n",
              "583  female        group D  ...            75            80\n",
              "356    male        group A  ...            61            61\n",
              "279    male        group B  ...            56            57\n",
              "968  female        group E  ...            76            67\n",
              "21   female        group B  ...            75            70\n",
              "101    male        group D  ...            74            74\n",
              "271    male        group C  ...            49            42\n",
              "383  female        group E  ...            49            45\n",
              "632  female        group B  ...            74            81\n",
              "547    male        group C  ...            67            64\n",
              "\n",
              "[10 rows x 8 columns]"
            ]
          },
          "metadata": {
            "tags": []
          },
          "execution_count": 5
        }
      ]
    },
    {
      "cell_type": "markdown",
      "metadata": {
        "id": "Wrg0maow8JYF"
      },
      "source": [
        "1. Nghiên cứu mối liên hệ về mặt thống kê của các biến gender với điểm reading và writing (chuyển điểm về A, B, C, D)"
      ]
    },
    {
      "cell_type": "code",
      "metadata": {
        "id": "Q_v8LRgm8L58"
      },
      "source": [
        "#Phan chia điểm theo thứ bậc: numerical -> categorical\n",
        "#bins = pd.IntervalIndex.from.tuples([(0,60),(60, 75),(75,85),(85,100)])"
      ],
      "execution_count": 6,
      "outputs": []
    },
    {
      "cell_type": "code",
      "metadata": {
        "colab": {
          "base_uri": "https://localhost:8080/",
          "height": 359
        },
        "id": "vidIrio88T-7",
        "outputId": "fd3b33ca-cce0-4c94-a604-2a1c64e5e749"
      },
      "source": [
        "#Với điểm Toán\n",
        "bins = [0, 60, 75, 85, 100]\n",
        "gen_math_df = df[['gender', 'math score']].copy()\n",
        "gen_math_df['ThangDiem'] = pd.cut(gen_math_df['math score'], bins, labels=['D', 'C', 'B', 'A'])\n",
        "gen_math_df.sample(10)"
      ],
      "execution_count": 7,
      "outputs": [
        {
          "output_type": "execute_result",
          "data": {
            "text/html": [
              "<div>\n",
              "<style scoped>\n",
              "    .dataframe tbody tr th:only-of-type {\n",
              "        vertical-align: middle;\n",
              "    }\n",
              "\n",
              "    .dataframe tbody tr th {\n",
              "        vertical-align: top;\n",
              "    }\n",
              "\n",
              "    .dataframe thead th {\n",
              "        text-align: right;\n",
              "    }\n",
              "</style>\n",
              "<table border=\"1\" class=\"dataframe\">\n",
              "  <thead>\n",
              "    <tr style=\"text-align: right;\">\n",
              "      <th></th>\n",
              "      <th>gender</th>\n",
              "      <th>math score</th>\n",
              "      <th>ThangDiem</th>\n",
              "    </tr>\n",
              "  </thead>\n",
              "  <tbody>\n",
              "    <tr>\n",
              "      <th>883</th>\n",
              "      <td>male</td>\n",
              "      <td>55</td>\n",
              "      <td>D</td>\n",
              "    </tr>\n",
              "    <tr>\n",
              "      <th>678</th>\n",
              "      <td>male</td>\n",
              "      <td>81</td>\n",
              "      <td>B</td>\n",
              "    </tr>\n",
              "    <tr>\n",
              "      <th>26</th>\n",
              "      <td>male</td>\n",
              "      <td>69</td>\n",
              "      <td>C</td>\n",
              "    </tr>\n",
              "    <tr>\n",
              "      <th>340</th>\n",
              "      <td>male</td>\n",
              "      <td>58</td>\n",
              "      <td>D</td>\n",
              "    </tr>\n",
              "    <tr>\n",
              "      <th>663</th>\n",
              "      <td>female</td>\n",
              "      <td>65</td>\n",
              "      <td>C</td>\n",
              "    </tr>\n",
              "    <tr>\n",
              "      <th>129</th>\n",
              "      <td>female</td>\n",
              "      <td>51</td>\n",
              "      <td>D</td>\n",
              "    </tr>\n",
              "    <tr>\n",
              "      <th>877</th>\n",
              "      <td>male</td>\n",
              "      <td>57</td>\n",
              "      <td>D</td>\n",
              "    </tr>\n",
              "    <tr>\n",
              "      <th>630</th>\n",
              "      <td>male</td>\n",
              "      <td>67</td>\n",
              "      <td>C</td>\n",
              "    </tr>\n",
              "    <tr>\n",
              "      <th>926</th>\n",
              "      <td>male</td>\n",
              "      <td>64</td>\n",
              "      <td>C</td>\n",
              "    </tr>\n",
              "    <tr>\n",
              "      <th>362</th>\n",
              "      <td>female</td>\n",
              "      <td>52</td>\n",
              "      <td>D</td>\n",
              "    </tr>\n",
              "  </tbody>\n",
              "</table>\n",
              "</div>"
            ],
            "text/plain": [
              "     gender  math score ThangDiem\n",
              "883    male          55         D\n",
              "678    male          81         B\n",
              "26     male          69         C\n",
              "340    male          58         D\n",
              "663  female          65         C\n",
              "129  female          51         D\n",
              "877    male          57         D\n",
              "630    male          67         C\n",
              "926    male          64         C\n",
              "362  female          52         D"
            ]
          },
          "metadata": {
            "tags": []
          },
          "execution_count": 7
        }
      ]
    },
    {
      "cell_type": "code",
      "metadata": {
        "colab": {
          "base_uri": "https://localhost:8080/",
          "height": 359
        },
        "id": "ebusCTQj8OLV",
        "outputId": "beb84857-a717-4389-967b-d28390eab88f"
      },
      "source": [
        "#Với điểm reading\n",
        "bins = [0, 60, 75, 87, 100]\n",
        "gen_reading_df  = df[['gender', 'reading score']].copy()\n",
        "gen_reading_df['ThangDiem'] = pd.cut(gen_reading_df['reading score'], bins, labels = ['D','C','B','A'])\n",
        "gen_reading_df.sample(10)"
      ],
      "execution_count": 8,
      "outputs": [
        {
          "output_type": "execute_result",
          "data": {
            "text/html": [
              "<div>\n",
              "<style scoped>\n",
              "    .dataframe tbody tr th:only-of-type {\n",
              "        vertical-align: middle;\n",
              "    }\n",
              "\n",
              "    .dataframe tbody tr th {\n",
              "        vertical-align: top;\n",
              "    }\n",
              "\n",
              "    .dataframe thead th {\n",
              "        text-align: right;\n",
              "    }\n",
              "</style>\n",
              "<table border=\"1\" class=\"dataframe\">\n",
              "  <thead>\n",
              "    <tr style=\"text-align: right;\">\n",
              "      <th></th>\n",
              "      <th>gender</th>\n",
              "      <th>reading score</th>\n",
              "      <th>ThangDiem</th>\n",
              "    </tr>\n",
              "  </thead>\n",
              "  <tbody>\n",
              "    <tr>\n",
              "      <th>117</th>\n",
              "      <td>female</td>\n",
              "      <td>82</td>\n",
              "      <td>B</td>\n",
              "    </tr>\n",
              "    <tr>\n",
              "      <th>510</th>\n",
              "      <td>male</td>\n",
              "      <td>71</td>\n",
              "      <td>C</td>\n",
              "    </tr>\n",
              "    <tr>\n",
              "      <th>13</th>\n",
              "      <td>male</td>\n",
              "      <td>72</td>\n",
              "      <td>C</td>\n",
              "    </tr>\n",
              "    <tr>\n",
              "      <th>449</th>\n",
              "      <td>male</td>\n",
              "      <td>73</td>\n",
              "      <td>C</td>\n",
              "    </tr>\n",
              "    <tr>\n",
              "      <th>49</th>\n",
              "      <td>male</td>\n",
              "      <td>84</td>\n",
              "      <td>B</td>\n",
              "    </tr>\n",
              "    <tr>\n",
              "      <th>549</th>\n",
              "      <td>male</td>\n",
              "      <td>72</td>\n",
              "      <td>C</td>\n",
              "    </tr>\n",
              "    <tr>\n",
              "      <th>694</th>\n",
              "      <td>female</td>\n",
              "      <td>63</td>\n",
              "      <td>C</td>\n",
              "    </tr>\n",
              "    <tr>\n",
              "      <th>1</th>\n",
              "      <td>female</td>\n",
              "      <td>90</td>\n",
              "      <td>A</td>\n",
              "    </tr>\n",
              "    <tr>\n",
              "      <th>570</th>\n",
              "      <td>male</td>\n",
              "      <td>75</td>\n",
              "      <td>C</td>\n",
              "    </tr>\n",
              "    <tr>\n",
              "      <th>330</th>\n",
              "      <td>male</td>\n",
              "      <td>60</td>\n",
              "      <td>D</td>\n",
              "    </tr>\n",
              "  </tbody>\n",
              "</table>\n",
              "</div>"
            ],
            "text/plain": [
              "     gender  reading score ThangDiem\n",
              "117  female             82         B\n",
              "510    male             71         C\n",
              "13     male             72         C\n",
              "449    male             73         C\n",
              "49     male             84         B\n",
              "549    male             72         C\n",
              "694  female             63         C\n",
              "1    female             90         A\n",
              "570    male             75         C\n",
              "330    male             60         D"
            ]
          },
          "metadata": {
            "tags": []
          },
          "execution_count": 8
        }
      ]
    },
    {
      "cell_type": "code",
      "metadata": {
        "colab": {
          "base_uri": "https://localhost:8080/",
          "height": 359
        },
        "id": "YWSPl9OF8Q-X",
        "outputId": "04feae6e-3ea9-4bdc-88bb-03c9eb0bcb48"
      },
      "source": [
        "#Với điểm writing\n",
        "bins = [0, 60, 75, 87, 100]\n",
        "gen_writing_df  = df[['gender', 'writing score']].copy()\n",
        "gen_writing_df['ThangDiem'] = pd.cut(gen_writing_df['writing score'], bins, labels = ['D','C','B','A'])\n",
        "gen_writing_df.sample(10)"
      ],
      "execution_count": 9,
      "outputs": [
        {
          "output_type": "execute_result",
          "data": {
            "text/html": [
              "<div>\n",
              "<style scoped>\n",
              "    .dataframe tbody tr th:only-of-type {\n",
              "        vertical-align: middle;\n",
              "    }\n",
              "\n",
              "    .dataframe tbody tr th {\n",
              "        vertical-align: top;\n",
              "    }\n",
              "\n",
              "    .dataframe thead th {\n",
              "        text-align: right;\n",
              "    }\n",
              "</style>\n",
              "<table border=\"1\" class=\"dataframe\">\n",
              "  <thead>\n",
              "    <tr style=\"text-align: right;\">\n",
              "      <th></th>\n",
              "      <th>gender</th>\n",
              "      <th>writing score</th>\n",
              "      <th>ThangDiem</th>\n",
              "    </tr>\n",
              "  </thead>\n",
              "  <tbody>\n",
              "    <tr>\n",
              "      <th>8</th>\n",
              "      <td>male</td>\n",
              "      <td>67</td>\n",
              "      <td>C</td>\n",
              "    </tr>\n",
              "    <tr>\n",
              "      <th>375</th>\n",
              "      <td>male</td>\n",
              "      <td>41</td>\n",
              "      <td>D</td>\n",
              "    </tr>\n",
              "    <tr>\n",
              "      <th>769</th>\n",
              "      <td>male</td>\n",
              "      <td>57</td>\n",
              "      <td>D</td>\n",
              "    </tr>\n",
              "    <tr>\n",
              "      <th>665</th>\n",
              "      <td>female</td>\n",
              "      <td>60</td>\n",
              "      <td>D</td>\n",
              "    </tr>\n",
              "    <tr>\n",
              "      <th>322</th>\n",
              "      <td>female</td>\n",
              "      <td>80</td>\n",
              "      <td>B</td>\n",
              "    </tr>\n",
              "    <tr>\n",
              "      <th>811</th>\n",
              "      <td>male</td>\n",
              "      <td>49</td>\n",
              "      <td>D</td>\n",
              "    </tr>\n",
              "    <tr>\n",
              "      <th>650</th>\n",
              "      <td>male</td>\n",
              "      <td>53</td>\n",
              "      <td>D</td>\n",
              "    </tr>\n",
              "    <tr>\n",
              "      <th>198</th>\n",
              "      <td>female</td>\n",
              "      <td>55</td>\n",
              "      <td>D</td>\n",
              "    </tr>\n",
              "    <tr>\n",
              "      <th>336</th>\n",
              "      <td>male</td>\n",
              "      <td>69</td>\n",
              "      <td>C</td>\n",
              "    </tr>\n",
              "    <tr>\n",
              "      <th>372</th>\n",
              "      <td>male</td>\n",
              "      <td>72</td>\n",
              "      <td>C</td>\n",
              "    </tr>\n",
              "  </tbody>\n",
              "</table>\n",
              "</div>"
            ],
            "text/plain": [
              "     gender  writing score ThangDiem\n",
              "8      male             67         C\n",
              "375    male             41         D\n",
              "769    male             57         D\n",
              "665  female             60         D\n",
              "322  female             80         B\n",
              "811    male             49         D\n",
              "650    male             53         D\n",
              "198  female             55         D\n",
              "336    male             69         C\n",
              "372    male             72         C"
            ]
          },
          "metadata": {
            "tags": []
          },
          "execution_count": 9
        }
      ]
    },
    {
      "cell_type": "code",
      "metadata": {
        "id": "6ML6JQon8u_l"
      },
      "source": [
        "def results(p, vals=['score', 'p_value'], alpha=0.05):\n",
        "    cols=['score', 'p_value', 'KetLuan']\n",
        "    if p['p_value'] < alpha:\n",
        "        p['KetLuan'] = f\"Chấp nhận H1 với mức ý nghĩa {alpha}\"\n",
        "    if p['p_value'] >= alpha:\n",
        "        p['KetLuan'] = f\"Chấp nhận H0 với mức ý nghĩa {alpha}\"\n",
        "    df = pd.DataFrame(p, index=[''])\n",
        "    if vals: cols = vals + cols\n",
        "    return df[cols]"
      ],
      "execution_count": 10,
      "outputs": []
    },
    {
      "cell_type": "code",
      "metadata": {
        "colab": {
          "base_uri": "https://localhost:8080/",
          "height": 142
        },
        "id": "u8pWsz0E83PT",
        "outputId": "3c70e5c8-39a4-4661-883d-8f307f15f2c0"
      },
      "source": [
        "#Với Math\n",
        "tanso_math_df = pd.crosstab(index=gen_math_df['gender'], columns=gen_math_df['ThangDiem'])\n",
        "tanso_math_df\n",
        "# contingency table; contingency matrix; contingency data frame"
      ],
      "execution_count": 12,
      "outputs": [
        {
          "output_type": "execute_result",
          "data": {
            "text/html": [
              "<div>\n",
              "<style scoped>\n",
              "    .dataframe tbody tr th:only-of-type {\n",
              "        vertical-align: middle;\n",
              "    }\n",
              "\n",
              "    .dataframe tbody tr th {\n",
              "        vertical-align: top;\n",
              "    }\n",
              "\n",
              "    .dataframe thead th {\n",
              "        text-align: right;\n",
              "    }\n",
              "</style>\n",
              "<table border=\"1\" class=\"dataframe\">\n",
              "  <thead>\n",
              "    <tr style=\"text-align: right;\">\n",
              "      <th>ThangDiem</th>\n",
              "      <th>D</th>\n",
              "      <th>C</th>\n",
              "      <th>B</th>\n",
              "      <th>A</th>\n",
              "    </tr>\n",
              "    <tr>\n",
              "      <th>gender</th>\n",
              "      <th></th>\n",
              "      <th></th>\n",
              "      <th></th>\n",
              "      <th></th>\n",
              "    </tr>\n",
              "  </thead>\n",
              "  <tbody>\n",
              "    <tr>\n",
              "      <th>female</th>\n",
              "      <td>204</td>\n",
              "      <td>201</td>\n",
              "      <td>75</td>\n",
              "      <td>37</td>\n",
              "    </tr>\n",
              "    <tr>\n",
              "      <th>male</th>\n",
              "      <td>134</td>\n",
              "      <td>186</td>\n",
              "      <td>96</td>\n",
              "      <td>66</td>\n",
              "    </tr>\n",
              "  </tbody>\n",
              "</table>\n",
              "</div>"
            ],
            "text/plain": [
              "ThangDiem    D    C   B   A\n",
              "gender                     \n",
              "female     204  201  75  37\n",
              "male       134  186  96  66"
            ]
          },
          "metadata": {
            "tags": []
          },
          "execution_count": 12
        }
      ]
    },
    {
      "cell_type": "code",
      "metadata": {
        "colab": {
          "base_uri": "https://localhost:8080/",
          "height": 142
        },
        "id": "qjAUxTbd8y1d",
        "outputId": "ba91a371-98aa-4dec-c058-6ffc9907ee6c"
      },
      "source": [
        "#Với reading\n",
        "tanso_reading_df = pd.crosstab(index=gen_reading_df['gender'], columns=gen_reading_df['ThangDiem'])\n",
        "tanso_reading_df\n",
        "# contingency table; contingency matrix; contingency data frame"
      ],
      "execution_count": 13,
      "outputs": [
        {
          "output_type": "execute_result",
          "data": {
            "text/html": [
              "<div>\n",
              "<style scoped>\n",
              "    .dataframe tbody tr th:only-of-type {\n",
              "        vertical-align: middle;\n",
              "    }\n",
              "\n",
              "    .dataframe tbody tr th {\n",
              "        vertical-align: top;\n",
              "    }\n",
              "\n",
              "    .dataframe thead th {\n",
              "        text-align: right;\n",
              "    }\n",
              "</style>\n",
              "<table border=\"1\" class=\"dataframe\">\n",
              "  <thead>\n",
              "    <tr style=\"text-align: right;\">\n",
              "      <th>ThangDiem</th>\n",
              "      <th>D</th>\n",
              "      <th>C</th>\n",
              "      <th>B</th>\n",
              "      <th>A</th>\n",
              "    </tr>\n",
              "    <tr>\n",
              "      <th>gender</th>\n",
              "      <th></th>\n",
              "      <th></th>\n",
              "      <th></th>\n",
              "      <th></th>\n",
              "    </tr>\n",
              "  </thead>\n",
              "  <tbody>\n",
              "    <tr>\n",
              "      <th>female</th>\n",
              "      <td>98</td>\n",
              "      <td>195</td>\n",
              "      <td>145</td>\n",
              "      <td>80</td>\n",
              "    </tr>\n",
              "    <tr>\n",
              "      <th>male</th>\n",
              "      <td>177</td>\n",
              "      <td>186</td>\n",
              "      <td>99</td>\n",
              "      <td>20</td>\n",
              "    </tr>\n",
              "  </tbody>\n",
              "</table>\n",
              "</div>"
            ],
            "text/plain": [
              "ThangDiem    D    C    B   A\n",
              "gender                      \n",
              "female      98  195  145  80\n",
              "male       177  186   99  20"
            ]
          },
          "metadata": {
            "tags": []
          },
          "execution_count": 13
        }
      ]
    },
    {
      "cell_type": "code",
      "metadata": {
        "colab": {
          "base_uri": "https://localhost:8080/",
          "height": 142
        },
        "id": "xs7F0gb19B88",
        "outputId": "d2b3c9a3-2622-4ffa-e91f-3ef6018a1283"
      },
      "source": [
        "#Với writing\n",
        "tanso_writing_df = pd.crosstab(index=gen_writing_df['gender'], columns = gen_writing_df['ThangDiem'])\n",
        "tanso_writing_df"
      ],
      "execution_count": 14,
      "outputs": [
        {
          "output_type": "execute_result",
          "data": {
            "text/html": [
              "<div>\n",
              "<style scoped>\n",
              "    .dataframe tbody tr th:only-of-type {\n",
              "        vertical-align: middle;\n",
              "    }\n",
              "\n",
              "    .dataframe tbody tr th {\n",
              "        vertical-align: top;\n",
              "    }\n",
              "\n",
              "    .dataframe thead th {\n",
              "        text-align: right;\n",
              "    }\n",
              "</style>\n",
              "<table border=\"1\" class=\"dataframe\">\n",
              "  <thead>\n",
              "    <tr style=\"text-align: right;\">\n",
              "      <th>ThangDiem</th>\n",
              "      <th>D</th>\n",
              "      <th>C</th>\n",
              "      <th>B</th>\n",
              "      <th>A</th>\n",
              "    </tr>\n",
              "    <tr>\n",
              "      <th>gender</th>\n",
              "      <th></th>\n",
              "      <th></th>\n",
              "      <th></th>\n",
              "      <th></th>\n",
              "    </tr>\n",
              "  </thead>\n",
              "  <tbody>\n",
              "    <tr>\n",
              "      <th>female</th>\n",
              "      <td>100</td>\n",
              "      <td>187</td>\n",
              "      <td>151</td>\n",
              "      <td>80</td>\n",
              "    </tr>\n",
              "    <tr>\n",
              "      <th>male</th>\n",
              "      <td>201</td>\n",
              "      <td>184</td>\n",
              "      <td>79</td>\n",
              "      <td>18</td>\n",
              "    </tr>\n",
              "  </tbody>\n",
              "</table>\n",
              "</div>"
            ],
            "text/plain": [
              "ThangDiem    D    C    B   A\n",
              "gender                      \n",
              "female     100  187  151  80\n",
              "male       201  184   79  18"
            ]
          },
          "metadata": {
            "tags": []
          },
          "execution_count": 14
        }
      ]
    },
    {
      "cell_type": "markdown",
      "metadata": {
        "id": "gO9WHlEz9NqK"
      },
      "source": [
        "#So sánh hai biến gender và ThangDiem\n",
        "- **H0** Giới tính và điểm môn Reading không phụ thuộc nhau\n",
        "- **H1** Giới tính và điểm môn Reading có mối liên hệ nhau"
      ]
    },
    {
      "cell_type": "code",
      "metadata": {
        "id": "iuIK1WXP9UZw"
      },
      "source": [
        "#Với Math\n",
        "score, p_value, dof, expected = stats.chi2_contingency(tanso_math_df)"
      ],
      "execution_count": 15,
      "outputs": []
    },
    {
      "cell_type": "code",
      "metadata": {
        "colab": {
          "base_uri": "https://localhost:8080/",
          "height": 80
        },
        "id": "GroW5GxX9dgH",
        "outputId": "811188fc-a3c9-4c84-a24a-cab0b83bb2e9"
      },
      "source": [
        "p ={}\n",
        "p['score'] = score\n",
        "p['p_value'] = p_value\n",
        "p['dof'] = dof\n",
        "results(p)"
      ],
      "execution_count": 16,
      "outputs": [
        {
          "output_type": "execute_result",
          "data": {
            "text/html": [
              "<div>\n",
              "<style scoped>\n",
              "    .dataframe tbody tr th:only-of-type {\n",
              "        vertical-align: middle;\n",
              "    }\n",
              "\n",
              "    .dataframe tbody tr th {\n",
              "        vertical-align: top;\n",
              "    }\n",
              "\n",
              "    .dataframe thead th {\n",
              "        text-align: right;\n",
              "    }\n",
              "</style>\n",
              "<table border=\"1\" class=\"dataframe\">\n",
              "  <thead>\n",
              "    <tr style=\"text-align: right;\">\n",
              "      <th></th>\n",
              "      <th>score</th>\n",
              "      <th>p_value</th>\n",
              "      <th>score</th>\n",
              "      <th>p_value</th>\n",
              "      <th>KetLuan</th>\n",
              "    </tr>\n",
              "  </thead>\n",
              "  <tbody>\n",
              "    <tr>\n",
              "      <th></th>\n",
              "      <td>24.626434</td>\n",
              "      <td>0.000018</td>\n",
              "      <td>24.626434</td>\n",
              "      <td>0.000018</td>\n",
              "      <td>Chấp nhận H1 với mức ý nghĩa 0.05</td>\n",
              "    </tr>\n",
              "  </tbody>\n",
              "</table>\n",
              "</div>"
            ],
            "text/plain": [
              "      score   p_value      score   p_value                            KetLuan\n",
              "  24.626434  0.000018  24.626434  0.000018  Chấp nhận H1 với mức ý nghĩa 0.05"
            ]
          },
          "metadata": {
            "tags": []
          },
          "execution_count": 16
        }
      ]
    },
    {
      "cell_type": "code",
      "metadata": {
        "id": "lXUwLkaY9frH"
      },
      "source": [
        "#Với reading\n",
        "score1, p_value1, dof1, expected = stats.chi2_contingency(tanso_reading_df)"
      ],
      "execution_count": 17,
      "outputs": []
    },
    {
      "cell_type": "code",
      "metadata": {
        "colab": {
          "base_uri": "https://localhost:8080/",
          "height": 80
        },
        "id": "s4ZF26ZG9lBG",
        "outputId": "e8ccf16c-3a3c-45ae-bf88-860adc38aa3c"
      },
      "source": [
        "p = {}\n",
        "p['score'] = score1\n",
        "p['p_value'] = p_value1\n",
        "p['dof'] = dof1\n",
        "results(p)"
      ],
      "execution_count": 18,
      "outputs": [
        {
          "output_type": "execute_result",
          "data": {
            "text/html": [
              "<div>\n",
              "<style scoped>\n",
              "    .dataframe tbody tr th:only-of-type {\n",
              "        vertical-align: middle;\n",
              "    }\n",
              "\n",
              "    .dataframe tbody tr th {\n",
              "        vertical-align: top;\n",
              "    }\n",
              "\n",
              "    .dataframe thead th {\n",
              "        text-align: right;\n",
              "    }\n",
              "</style>\n",
              "<table border=\"1\" class=\"dataframe\">\n",
              "  <thead>\n",
              "    <tr style=\"text-align: right;\">\n",
              "      <th></th>\n",
              "      <th>score</th>\n",
              "      <th>p_value</th>\n",
              "      <th>score</th>\n",
              "      <th>p_value</th>\n",
              "      <th>KetLuan</th>\n",
              "    </tr>\n",
              "  </thead>\n",
              "  <tbody>\n",
              "    <tr>\n",
              "      <th></th>\n",
              "      <td>66.36929</td>\n",
              "      <td>2.555155e-14</td>\n",
              "      <td>66.36929</td>\n",
              "      <td>2.555155e-14</td>\n",
              "      <td>Chấp nhận H1 với mức ý nghĩa 0.05</td>\n",
              "    </tr>\n",
              "  </tbody>\n",
              "</table>\n",
              "</div>"
            ],
            "text/plain": [
              "     score       p_value  ...       p_value                            KetLuan\n",
              "  66.36929  2.555155e-14  ...  2.555155e-14  Chấp nhận H1 với mức ý nghĩa 0.05\n",
              "\n",
              "[1 rows x 5 columns]"
            ]
          },
          "metadata": {
            "tags": []
          },
          "execution_count": 18
        }
      ]
    },
    {
      "cell_type": "code",
      "metadata": {
        "id": "MqKcLQjc9qbB"
      },
      "source": [
        "#Với writing\n",
        "score2, p_value2, dof2, expected = stats.chi2_contingency(tanso_reading_df)"
      ],
      "execution_count": 19,
      "outputs": []
    },
    {
      "cell_type": "code",
      "metadata": {
        "colab": {
          "base_uri": "https://localhost:8080/",
          "height": 80
        },
        "id": "m77p7cnD90DL",
        "outputId": "41f5c487-3e67-45da-916b-89c0b8d934f6"
      },
      "source": [
        "p ={}\n",
        "p['score'] = score2\n",
        "p['p_value'] = p_value2\n",
        "p['dof'] = dof2\n",
        "results(p)"
      ],
      "execution_count": 20,
      "outputs": [
        {
          "output_type": "execute_result",
          "data": {
            "text/html": [
              "<div>\n",
              "<style scoped>\n",
              "    .dataframe tbody tr th:only-of-type {\n",
              "        vertical-align: middle;\n",
              "    }\n",
              "\n",
              "    .dataframe tbody tr th {\n",
              "        vertical-align: top;\n",
              "    }\n",
              "\n",
              "    .dataframe thead th {\n",
              "        text-align: right;\n",
              "    }\n",
              "</style>\n",
              "<table border=\"1\" class=\"dataframe\">\n",
              "  <thead>\n",
              "    <tr style=\"text-align: right;\">\n",
              "      <th></th>\n",
              "      <th>score</th>\n",
              "      <th>p_value</th>\n",
              "      <th>score</th>\n",
              "      <th>p_value</th>\n",
              "      <th>KetLuan</th>\n",
              "    </tr>\n",
              "  </thead>\n",
              "  <tbody>\n",
              "    <tr>\n",
              "      <th></th>\n",
              "      <td>66.36929</td>\n",
              "      <td>2.555155e-14</td>\n",
              "      <td>66.36929</td>\n",
              "      <td>2.555155e-14</td>\n",
              "      <td>Chấp nhận H1 với mức ý nghĩa 0.05</td>\n",
              "    </tr>\n",
              "  </tbody>\n",
              "</table>\n",
              "</div>"
            ],
            "text/plain": [
              "     score       p_value  ...       p_value                            KetLuan\n",
              "  66.36929  2.555155e-14  ...  2.555155e-14  Chấp nhận H1 với mức ý nghĩa 0.05\n",
              "\n",
              "[1 rows x 5 columns]"
            ]
          },
          "metadata": {
            "tags": []
          },
          "execution_count": 20
        }
      ]
    },
    {
      "cell_type": "markdown",
      "metadata": {
        "id": "dIarck39-HeL"
      },
      "source": [
        "**KỸ THUẬT EDA**\n"
      ]
    },
    {
      "cell_type": "code",
      "metadata": {
        "id": "WKajj53J-NOl"
      },
      "source": [
        "#Với math\n",
        "female = gen_math_df[gen_math_df['gender']=='female']\n",
        "male = gen_math_df[gen_math_df['gender']=='male']"
      ],
      "execution_count": 21,
      "outputs": []
    },
    {
      "cell_type": "code",
      "metadata": {
        "colab": {
          "base_uri": "https://localhost:8080/",
          "height": 285
        },
        "id": "dgUwUJHS-QoG",
        "outputId": "9c74cb6c-f83d-4f02-f993-a4bd0323782d"
      },
      "source": [
        "sns.set(style=\"darkgrid\")\n",
        "sns.histplot(data=female, x=\"math score\", color=\"pink\", label=\"female\", kde=True)\n",
        "sns.histplot(data=male, x=\"math score\", color=\"blue\", label=\"male\", kde=True)\n",
        "plt.legend()\n",
        "plt.show()"
      ],
      "execution_count": 22,
      "outputs": [
        {
          "output_type": "display_data",
          "data": {
            "image/png": "[encoded data removed]",
            "text/plain": [
              "<Figure size 432x288 with 1 Axes>"
            ]
          },
          "metadata": {
            "tags": []
          }
        }
      ]
    },
    {
      "cell_type": "code",
      "metadata": {
        "id": "Us0np08e-Ti8"
      },
      "source": [
        "#Với reading\n",
        "female1 = gen_reading_df[gen_reading_df['gender']=='female']\n",
        "male1 = gen_reading_df[gen_reading_df['gender']=='male']"
      ],
      "execution_count": 23,
      "outputs": []
    },
    {
      "cell_type": "code",
      "metadata": {
        "colab": {
          "base_uri": "https://localhost:8080/",
          "height": 287
        },
        "id": "paMvIi-S-kwB",
        "outputId": "a23e5dfc-cb7a-413a-8f1c-9cf1ea541314"
      },
      "source": [
        "sns.set(style=\"darkgrid\")\n",
        "sns.histplot(data=female1, x=\"reading score\", color=\"cyan\", label=\"female\", kde=True)\n",
        "sns.histplot(data=male1, x=\"reading score\", color=\"red\", label=\"male\", kde=True)\n",
        "plt.legend()\n",
        "plt.show()"
      ],
      "execution_count": 24,
      "outputs": [
        {
          "output_type": "display_data",
          "data": {
            "image/png": "[encoded data removed]",
            "text/plain": [
              "<Figure size 432x288 with 1 Axes>"
            ]
          },
          "metadata": {
            "tags": []
          }
        }
      ]
    },
    {
      "cell_type": "code",
      "metadata": {
        "id": "gmOgT_wK-zK4"
      },
      "source": [
        "#Với writing\n",
        "female2 = gen_writing_df[gen_writing_df['gender']=='female']\n",
        "male2 = gen_writing_df[gen_writing_df['gender']=='male']"
      ],
      "execution_count": 25,
      "outputs": []
    },
    {
      "cell_type": "code",
      "metadata": {
        "colab": {
          "base_uri": "https://localhost:8080/",
          "height": 285
        },
        "id": "0qMrN2x6-5Ux",
        "outputId": "336c01b9-fa14-44b1-bd3c-3225cdd3e79f"
      },
      "source": [
        "sns.set(style='darkgrid')\n",
        "sns.histplot(data=female2, x='writing score', color = 'orange', label = 'female', kde=True)\n",
        "sns.histplot(data=male2, x='writing score', color='lime', label='male', kde=True)\n",
        "plt.legend()\n",
        "plt.show()"
      ],
      "execution_count": 26,
      "outputs": [
        {
          "output_type": "display_data",
          "data": {
            "image/png": "[encoded data removed]",
            "text/plain": [
              "<Figure size 432x288 with 1 Axes>"
            ]
          },
          "metadata": {
            "tags": []
          }
        }
      ]
    },
    {
      "cell_type": "markdown",
      "metadata": {
        "id": "eQm1g8Nl_Bzv"
      },
      "source": [
        "2. Nghiên cứu ảnh hưởng của lunch lên điểm thi các môn math; reading và writing (chuyển điểm về A, B, C, D)."
      ]
    },
    {
      "cell_type": "code",
      "metadata": {
        "colab": {
          "base_uri": "https://localhost:8080/",
          "height": 359
        },
        "id": "Vv6nNnU0_IgK",
        "outputId": "083de7c9-5f8a-4236-dc91-339c4972d181"
      },
      "source": [
        "#Với math\n",
        "bins = [0, 60, 75, 85, 100]\n",
        "lunch_math = df[['lunch', 'math score']].copy()\n",
        "lunch_math['ThangDiem'] = pd.cut(lunch_math['math score'], bins, labels=['D', 'C', 'B', 'A'])\n",
        "lunch_math.sample(10)"
      ],
      "execution_count": 28,
      "outputs": [
        {
          "output_type": "execute_result",
          "data": {
            "text/html": [
              "<div>\n",
              "<style scoped>\n",
              "    .dataframe tbody tr th:only-of-type {\n",
              "        vertical-align: middle;\n",
              "    }\n",
              "\n",
              "    .dataframe tbody tr th {\n",
              "        vertical-align: top;\n",
              "    }\n",
              "\n",
              "    .dataframe thead th {\n",
              "        text-align: right;\n",
              "    }\n",
              "</style>\n",
              "<table border=\"1\" class=\"dataframe\">\n",
              "  <thead>\n",
              "    <tr style=\"text-align: right;\">\n",
              "      <th></th>\n",
              "      <th>lunch</th>\n",
              "      <th>math score</th>\n",
              "      <th>ThangDiem</th>\n",
              "    </tr>\n",
              "  </thead>\n",
              "  <tbody>\n",
              "    <tr>\n",
              "      <th>960</th>\n",
              "      <td>standard</td>\n",
              "      <td>56</td>\n",
              "      <td>D</td>\n",
              "    </tr>\n",
              "    <tr>\n",
              "      <th>759</th>\n",
              "      <td>standard</td>\n",
              "      <td>69</td>\n",
              "      <td>C</td>\n",
              "    </tr>\n",
              "    <tr>\n",
              "      <th>56</th>\n",
              "      <td>standard</td>\n",
              "      <td>82</td>\n",
              "      <td>B</td>\n",
              "    </tr>\n",
              "    <tr>\n",
              "      <th>592</th>\n",
              "      <td>standard</td>\n",
              "      <td>68</td>\n",
              "      <td>C</td>\n",
              "    </tr>\n",
              "    <tr>\n",
              "      <th>406</th>\n",
              "      <td>standard</td>\n",
              "      <td>65</td>\n",
              "      <td>C</td>\n",
              "    </tr>\n",
              "    <tr>\n",
              "      <th>49</th>\n",
              "      <td>standard</td>\n",
              "      <td>82</td>\n",
              "      <td>B</td>\n",
              "    </tr>\n",
              "    <tr>\n",
              "      <th>609</th>\n",
              "      <td>standard</td>\n",
              "      <td>58</td>\n",
              "      <td>D</td>\n",
              "    </tr>\n",
              "    <tr>\n",
              "      <th>185</th>\n",
              "      <td>free/reduced</td>\n",
              "      <td>65</td>\n",
              "      <td>C</td>\n",
              "    </tr>\n",
              "    <tr>\n",
              "      <th>457</th>\n",
              "      <td>free/reduced</td>\n",
              "      <td>53</td>\n",
              "      <td>D</td>\n",
              "    </tr>\n",
              "    <tr>\n",
              "      <th>20</th>\n",
              "      <td>standard</td>\n",
              "      <td>66</td>\n",
              "      <td>C</td>\n",
              "    </tr>\n",
              "  </tbody>\n",
              "</table>\n",
              "</div>"
            ],
            "text/plain": [
              "            lunch  math score ThangDiem\n",
              "960      standard          56         D\n",
              "759      standard          69         C\n",
              "56       standard          82         B\n",
              "592      standard          68         C\n",
              "406      standard          65         C\n",
              "49       standard          82         B\n",
              "609      standard          58         D\n",
              "185  free/reduced          65         C\n",
              "457  free/reduced          53         D\n",
              "20       standard          66         C"
            ]
          },
          "metadata": {
            "tags": []
          },
          "execution_count": 28
        }
      ]
    },
    {
      "cell_type": "code",
      "metadata": {
        "id": "aQKDlZ08_coF"
      },
      "source": [
        "tanso_math1_df = pd.crosstab(lunch_math['lunch'], lunch_math['math score'])"
      ],
      "execution_count": 30,
      "outputs": []
    },
    {
      "cell_type": "code",
      "metadata": {
        "colab": {
          "base_uri": "https://localhost:8080/",
          "height": 80
        },
        "id": "XVs1hHuz_l8Q",
        "outputId": "8cb0d8e2-0da2-4531-8234-2b111a796ff4"
      },
      "source": [
        "score3, p_value3, dof3, expected = stats.chi2_contingency(tanso_math1_df)\n",
        "p = {}\n",
        "p['score'] = score3\n",
        "p['p_value'] = p_value3\n",
        "p['dof'] = dof3\n",
        "results(p)"
      ],
      "execution_count": 32,
      "outputs": [
        {
          "output_type": "execute_result",
          "data": {
            "text/html": [
              "<div>\n",
              "<style scoped>\n",
              "    .dataframe tbody tr th:only-of-type {\n",
              "        vertical-align: middle;\n",
              "    }\n",
              "\n",
              "    .dataframe tbody tr th {\n",
              "        vertical-align: top;\n",
              "    }\n",
              "\n",
              "    .dataframe thead th {\n",
              "        text-align: right;\n",
              "    }\n",
              "</style>\n",
              "<table border=\"1\" class=\"dataframe\">\n",
              "  <thead>\n",
              "    <tr style=\"text-align: right;\">\n",
              "      <th></th>\n",
              "      <th>score</th>\n",
              "      <th>p_value</th>\n",
              "      <th>score</th>\n",
              "      <th>p_value</th>\n",
              "      <th>KetLuan</th>\n",
              "    </tr>\n",
              "  </thead>\n",
              "  <tbody>\n",
              "    <tr>\n",
              "      <th></th>\n",
              "      <td>183.13539</td>\n",
              "      <td>4.637816e-10</td>\n",
              "      <td>183.13539</td>\n",
              "      <td>4.637816e-10</td>\n",
              "      <td>Chấp nhận H1 với mức ý nghĩa 0.05</td>\n",
              "    </tr>\n",
              "  </tbody>\n",
              "</table>\n",
              "</div>"
            ],
            "text/plain": [
              "      score       p_value  ...       p_value                            KetLuan\n",
              "  183.13539  4.637816e-10  ...  4.637816e-10  Chấp nhận H1 với mức ý nghĩa 0.05\n",
              "\n",
              "[1 rows x 5 columns]"
            ]
          },
          "metadata": {
            "tags": []
          },
          "execution_count": 32
        }
      ]
    },
    {
      "cell_type": "code",
      "metadata": {
        "colab": {
          "base_uri": "https://localhost:8080/",
          "height": 359
        },
        "id": "wcYEAB3__zpK",
        "outputId": "d434a6d6-b7d9-4c6d-cd9f-36c986891601"
      },
      "source": [
        "#Với reading\n",
        "bins = [0, 60, 75, 85, 100]\n",
        "lunch_reading = df[['lunch', 'reading score']].copy()\n",
        "lunch_reading['ThangDiem'] = pd.cut(lunch_reading['reading score'], bins, labels=['D', 'C', 'B', 'A'])\n",
        "lunch_reading.sample(10)"
      ],
      "execution_count": 33,
      "outputs": [
        {
          "output_type": "execute_result",
          "data": {
            "text/html": [
              "<div>\n",
              "<style scoped>\n",
              "    .dataframe tbody tr th:only-of-type {\n",
              "        vertical-align: middle;\n",
              "    }\n",
              "\n",
              "    .dataframe tbody tr th {\n",
              "        vertical-align: top;\n",
              "    }\n",
              "\n",
              "    .dataframe thead th {\n",
              "        text-align: right;\n",
              "    }\n",
              "</style>\n",
              "<table border=\"1\" class=\"dataframe\">\n",
              "  <thead>\n",
              "    <tr style=\"text-align: right;\">\n",
              "      <th></th>\n",
              "      <th>lunch</th>\n",
              "      <th>reading score</th>\n",
              "      <th>ThangDiem</th>\n",
              "    </tr>\n",
              "  </thead>\n",
              "  <tbody>\n",
              "    <tr>\n",
              "      <th>798</th>\n",
              "      <td>standard</td>\n",
              "      <td>60</td>\n",
              "      <td>D</td>\n",
              "    </tr>\n",
              "    <tr>\n",
              "      <th>48</th>\n",
              "      <td>free/reduced</td>\n",
              "      <td>74</td>\n",
              "      <td>C</td>\n",
              "    </tr>\n",
              "    <tr>\n",
              "      <th>62</th>\n",
              "      <td>free/reduced</td>\n",
              "      <td>61</td>\n",
              "      <td>C</td>\n",
              "    </tr>\n",
              "    <tr>\n",
              "      <th>678</th>\n",
              "      <td>free/reduced</td>\n",
              "      <td>75</td>\n",
              "      <td>C</td>\n",
              "    </tr>\n",
              "    <tr>\n",
              "      <th>251</th>\n",
              "      <td>free/reduced</td>\n",
              "      <td>83</td>\n",
              "      <td>B</td>\n",
              "    </tr>\n",
              "    <tr>\n",
              "      <th>534</th>\n",
              "      <td>standard</td>\n",
              "      <td>69</td>\n",
              "      <td>C</td>\n",
              "    </tr>\n",
              "    <tr>\n",
              "      <th>116</th>\n",
              "      <td>free/reduced</td>\n",
              "      <td>85</td>\n",
              "      <td>B</td>\n",
              "    </tr>\n",
              "    <tr>\n",
              "      <th>269</th>\n",
              "      <td>free/reduced</td>\n",
              "      <td>76</td>\n",
              "      <td>B</td>\n",
              "    </tr>\n",
              "    <tr>\n",
              "      <th>73</th>\n",
              "      <td>free/reduced</td>\n",
              "      <td>57</td>\n",
              "      <td>D</td>\n",
              "    </tr>\n",
              "    <tr>\n",
              "      <th>311</th>\n",
              "      <td>standard</td>\n",
              "      <td>60</td>\n",
              "      <td>D</td>\n",
              "    </tr>\n",
              "  </tbody>\n",
              "</table>\n",
              "</div>"
            ],
            "text/plain": [
              "            lunch  reading score ThangDiem\n",
              "798      standard             60         D\n",
              "48   free/reduced             74         C\n",
              "62   free/reduced             61         C\n",
              "678  free/reduced             75         C\n",
              "251  free/reduced             83         B\n",
              "534      standard             69         C\n",
              "116  free/reduced             85         B\n",
              "269  free/reduced             76         B\n",
              "73   free/reduced             57         D\n",
              "311      standard             60         D"
            ]
          },
          "metadata": {
            "tags": []
          },
          "execution_count": 33
        }
      ]
    },
    {
      "cell_type": "code",
      "metadata": {
        "id": "Mbh9Fm_x_6hV"
      },
      "source": [
        "tanso_reading1_df = pd.crosstab(lunch_reading['lunch'], lunch_reading['reading score'])"
      ],
      "execution_count": 34,
      "outputs": []
    },
    {
      "cell_type": "code",
      "metadata": {
        "colab": {
          "base_uri": "https://localhost:8080/",
          "height": 80
        },
        "id": "q41e9h_V__Zw",
        "outputId": "ad29f9e9-e599-4a9a-f7d7-5be72d58a865"
      },
      "source": [
        "score4, p_value4, dof4, expected = stats.chi2_contingency(tanso_reading1_df)\n",
        "p = {}\n",
        "p['score'] = score4\n",
        "p['p_value'] = p_value4\n",
        "p['dof'] = dof4\n",
        "results(p)"
      ],
      "execution_count": 35,
      "outputs": [
        {
          "output_type": "execute_result",
          "data": {
            "text/html": [
              "<div>\n",
              "<style scoped>\n",
              "    .dataframe tbody tr th:only-of-type {\n",
              "        vertical-align: middle;\n",
              "    }\n",
              "\n",
              "    .dataframe tbody tr th {\n",
              "        vertical-align: top;\n",
              "    }\n",
              "\n",
              "    .dataframe thead th {\n",
              "        text-align: right;\n",
              "    }\n",
              "</style>\n",
              "<table border=\"1\" class=\"dataframe\">\n",
              "  <thead>\n",
              "    <tr style=\"text-align: right;\">\n",
              "      <th></th>\n",
              "      <th>score</th>\n",
              "      <th>p_value</th>\n",
              "      <th>score</th>\n",
              "      <th>p_value</th>\n",
              "      <th>KetLuan</th>\n",
              "    </tr>\n",
              "  </thead>\n",
              "  <tbody>\n",
              "    <tr>\n",
              "      <th></th>\n",
              "      <td>122.103856</td>\n",
              "      <td>0.000157</td>\n",
              "      <td>122.103856</td>\n",
              "      <td>0.000157</td>\n",
              "      <td>Chấp nhận H1 với mức ý nghĩa 0.05</td>\n",
              "    </tr>\n",
              "  </tbody>\n",
              "</table>\n",
              "</div>"
            ],
            "text/plain": [
              "       score   p_value       score   p_value                            KetLuan\n",
              "  122.103856  0.000157  122.103856  0.000157  Chấp nhận H1 với mức ý nghĩa 0.05"
            ]
          },
          "metadata": {
            "tags": []
          },
          "execution_count": 35
        }
      ]
    },
    {
      "cell_type": "code",
      "metadata": {
        "colab": {
          "base_uri": "https://localhost:8080/",
          "height": 359
        },
        "id": "rY8Kc9kJAH68",
        "outputId": "7d7e50d7-eefd-47df-e059-b2aa9f18eaf6"
      },
      "source": [
        "#Với writing\n",
        "bins = [0, 60, 75, 85, 100]\n",
        "lunch_writing = df[['lunch', 'writing score']].copy()\n",
        "lunch_writing['ThangDiem'] = pd.cut(lunch_writing['writing score'], bins, labels=['D', 'C', 'B', 'A'])\n",
        "lunch_writing.sample(10)"
      ],
      "execution_count": 36,
      "outputs": [
        {
          "output_type": "execute_result",
          "data": {
            "text/html": [
              "<div>\n",
              "<style scoped>\n",
              "    .dataframe tbody tr th:only-of-type {\n",
              "        vertical-align: middle;\n",
              "    }\n",
              "\n",
              "    .dataframe tbody tr th {\n",
              "        vertical-align: top;\n",
              "    }\n",
              "\n",
              "    .dataframe thead th {\n",
              "        text-align: right;\n",
              "    }\n",
              "</style>\n",
              "<table border=\"1\" class=\"dataframe\">\n",
              "  <thead>\n",
              "    <tr style=\"text-align: right;\">\n",
              "      <th></th>\n",
              "      <th>lunch</th>\n",
              "      <th>writing score</th>\n",
              "      <th>ThangDiem</th>\n",
              "    </tr>\n",
              "  </thead>\n",
              "  <tbody>\n",
              "    <tr>\n",
              "      <th>368</th>\n",
              "      <td>free/reduced</td>\n",
              "      <td>58</td>\n",
              "      <td>D</td>\n",
              "    </tr>\n",
              "    <tr>\n",
              "      <th>570</th>\n",
              "      <td>standard</td>\n",
              "      <td>70</td>\n",
              "      <td>C</td>\n",
              "    </tr>\n",
              "    <tr>\n",
              "      <th>205</th>\n",
              "      <td>standard</td>\n",
              "      <td>78</td>\n",
              "      <td>B</td>\n",
              "    </tr>\n",
              "    <tr>\n",
              "      <th>737</th>\n",
              "      <td>free/reduced</td>\n",
              "      <td>73</td>\n",
              "      <td>C</td>\n",
              "    </tr>\n",
              "    <tr>\n",
              "      <th>253</th>\n",
              "      <td>standard</td>\n",
              "      <td>72</td>\n",
              "      <td>C</td>\n",
              "    </tr>\n",
              "    <tr>\n",
              "      <th>67</th>\n",
              "      <td>standard</td>\n",
              "      <td>74</td>\n",
              "      <td>C</td>\n",
              "    </tr>\n",
              "    <tr>\n",
              "      <th>916</th>\n",
              "      <td>standard</td>\n",
              "      <td>100</td>\n",
              "      <td>A</td>\n",
              "    </tr>\n",
              "    <tr>\n",
              "      <th>259</th>\n",
              "      <td>free/reduced</td>\n",
              "      <td>81</td>\n",
              "      <td>B</td>\n",
              "    </tr>\n",
              "    <tr>\n",
              "      <th>659</th>\n",
              "      <td>standard</td>\n",
              "      <td>85</td>\n",
              "      <td>B</td>\n",
              "    </tr>\n",
              "    <tr>\n",
              "      <th>878</th>\n",
              "      <td>standard</td>\n",
              "      <td>80</td>\n",
              "      <td>B</td>\n",
              "    </tr>\n",
              "  </tbody>\n",
              "</table>\n",
              "</div>"
            ],
            "text/plain": [
              "            lunch  writing score ThangDiem\n",
              "368  free/reduced             58         D\n",
              "570      standard             70         C\n",
              "205      standard             78         B\n",
              "737  free/reduced             73         C\n",
              "253      standard             72         C\n",
              "67       standard             74         C\n",
              "916      standard            100         A\n",
              "259  free/reduced             81         B\n",
              "659      standard             85         B\n",
              "878      standard             80         B"
            ]
          },
          "metadata": {
            "tags": []
          },
          "execution_count": 36
        }
      ]
    },
    {
      "cell_type": "code",
      "metadata": {
        "id": "Y7DmcLE5AZNH"
      },
      "source": [
        "tanso_writing1_df = pd.crosstab(lunch_writing['lunch'], lunch_writing['writing score'])"
      ],
      "execution_count": 37,
      "outputs": []
    },
    {
      "cell_type": "code",
      "metadata": {
        "colab": {
          "base_uri": "https://localhost:8080/",
          "height": 80
        },
        "id": "x9gBIeSGAj4G",
        "outputId": "2d4d8a67-180d-4ca9-954c-e5228adbb4a4"
      },
      "source": [
        "score5, p_value5, dof5, expected = stats.chi2_contingency(tanso_writing1_df)\n",
        "p = {}\n",
        "p['score'] = score5\n",
        "p['p_value'] = p_value5\n",
        "p['dof'] = dof5\n",
        "results(p)"
      ],
      "execution_count": 38,
      "outputs": [
        {
          "output_type": "execute_result",
          "data": {
            "text/html": [
              "<div>\n",
              "<style scoped>\n",
              "    .dataframe tbody tr th:only-of-type {\n",
              "        vertical-align: middle;\n",
              "    }\n",
              "\n",
              "    .dataframe tbody tr th {\n",
              "        vertical-align: top;\n",
              "    }\n",
              "\n",
              "    .dataframe thead th {\n",
              "        text-align: right;\n",
              "    }\n",
              "</style>\n",
              "<table border=\"1\" class=\"dataframe\">\n",
              "  <thead>\n",
              "    <tr style=\"text-align: right;\">\n",
              "      <th></th>\n",
              "      <th>score</th>\n",
              "      <th>p_value</th>\n",
              "      <th>score</th>\n",
              "      <th>p_value</th>\n",
              "      <th>KetLuan</th>\n",
              "    </tr>\n",
              "  </thead>\n",
              "  <tbody>\n",
              "    <tr>\n",
              "      <th></th>\n",
              "      <td>124.384538</td>\n",
              "      <td>0.00039</td>\n",
              "      <td>124.384538</td>\n",
              "      <td>0.00039</td>\n",
              "      <td>Chấp nhận H1 với mức ý nghĩa 0.05</td>\n",
              "    </tr>\n",
              "  </tbody>\n",
              "</table>\n",
              "</div>"
            ],
            "text/plain": [
              "       score  p_value       score  p_value                            KetLuan\n",
              "  124.384538  0.00039  124.384538  0.00039  Chấp nhận H1 với mức ý nghĩa 0.05"
            ]
          },
          "metadata": {
            "tags": []
          },
          "execution_count": 38
        }
      ]
    }
  ]
}