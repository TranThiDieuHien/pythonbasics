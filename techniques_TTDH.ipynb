{
  "nbformat": 4,
  "nbformat_minor": 0,
  "metadata": {
    "colab": {
      "name": "techniques-bs.ipynb",
      "provenance": [],
      "include_colab_link": true
    },
    "kernelspec": {
      "name": "python3",
      "display_name": "Python 3"
    }
  },
  "cells": [
    {
      "cell_type": "markdown",
      "metadata": {
        "id": "view-in-github",
        "colab_type": "text"
      },
      "source": [
        "<a href=\"https://colab.research.google.com/github/TranThiDieuHien/pythonbasics/blob/master/techniques_TTDH.ipynb\" target=\"_parent\"><img src=\"https://colab.research.google.com/assets/colab-badge.svg\" alt=\"Open In Colab\"/></a>"
      ]
    },
    {
      "cell_type": "markdown",
      "metadata": {
        "id": "nxCw7AZAZrUy"
      },
      "source": [
        "1 Tải 1 url về"
      ]
    },
    {
      "cell_type": "code",
      "metadata": {
        "id": "gUabxirVZibE"
      },
      "source": [
        "url = 'https://vietnamnet.vn/vn/kinh-doanh/dau-tu/nha-dau-tu-eu-muon-rot-ty-usd-xay-trung-tam-logistics-o-phu-my-704586.html'\r\n",
        "page = requests.get(url)\r\n",
        "soup = BeautifulSoup(page.text, \"html.parser\")\r\n",
        "html = soup.prettify()\r\n",
        "print(html)"
      ],
      "execution_count": null,
      "outputs": []
    },
    {
      "cell_type": "markdown",
      "metadata": {
        "id": "osKHdc80ZwDV"
      },
      "source": [
        "2. Lưu 1 html vào thư mục chỉ định"
      ]
    },
    {
      "cell_type": "code",
      "metadata": {
        "id": "-gvDk-nlZzLo"
      },
      "source": [
        "path = 'C:\\\\Users\\\\DELL\\\\'\r\n",
        "os.chdir(path)\r\n",
        "t = 'url_list'\r\n",
        "os.mkdir(t) \r\n",
        "path1= path + t\r\n",
        "os.chdir(path1)\r\n",
        "file = \"html_file\" + \".txt\"\r\n",
        "f = open(file, \"w\")\r\n",
        "f.write(html)\r\n",
        "f.close()\r\n",
        "print(f)\r\n"
      ],
      "execution_count": null,
      "outputs": []
    },
    {
      "cell_type": "markdown",
      "metadata": {
        "id": "BcKYLfcxZ-Hn"
      },
      "source": [
        "3. Cách lấy 1 phần tử đầu tiên ra khỏi list và xóa nó khỏi list"
      ]
    },
    {
      "cell_type": "code",
      "metadata": {
        "id": "rjRGJjQiaB-Y",
        "outputId": "5abb70cb-c2c0-4026-f953-592397a6d597",
        "colab": {
          "base_uri": "https://localhost:8080/"
        }
      },
      "source": [
        "name = [1,2,3,4,5]\r\n",
        "del name[0] #Name là 1 list, hàm này lấy phần tử đầu tiên ra khỏi list này và xóa nó\r\n",
        "print(name)"
      ],
      "execution_count": 1,
      "outputs": [
        {
          "output_type": "stream",
          "text": [
            "[2, 3, 4, 5]\n"
          ],
          "name": "stdout"
        }
      ]
    },
    {
      "cell_type": "markdown",
      "metadata": {
        "id": "pfd7r87vaDSZ"
      },
      "source": [
        "4. Cách lấy các url trong html"
      ]
    },
    {
      "cell_type": "code",
      "metadata": {
        "id": "osOcronYaGuY"
      },
      "source": [
        "for item in soup.find_all(\"a\"):\r\n",
        "      if 'href' in item.attrs:\r\n",
        "            print(item.attrs['href'])\r\n",
        "            for i in item.attrs['href']:\r\n",
        "                if (i[len(i)] == 'g') and i[len(i)] == 3:\r\n",
        "                    \r\n",
        "                else:\r\n",
        "                    print(item.attrs['href'])\r\n",
        "                      \r\n",
        "\r\n"
      ],
      "execution_count": null,
      "outputs": []
    }
  ]
}