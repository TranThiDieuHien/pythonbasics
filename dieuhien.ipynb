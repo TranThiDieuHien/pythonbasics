{
 "cells": [
  {
   "cell_type": "markdown",
   "metadata": {},
   "source": [
    "THỰC HÀNH THỐNG KÊ MÔ TẢ VỚI DỮ LIỆU ĐỊNH LƯỢNG\n",
    "\n",
    "Sử dụng tập dữ liệu microbiome.csv được cung cấp để hoàn thành các bài tập sau"
   ]
  },
  {
   "cell_type": "markdown",
   "metadata": {},
   "source": [
    "Câu 1: Tải tập dữ liệu microbiome.csv vào bộ nhớ (sử dụng pandas)"
   ]
  },
  {
   "cell_type": "code",
   "execution_count": 39,
   "metadata": {},
   "outputs": [],
   "source": [
    "import csv\n",
    "import pandas as pd\n",
    "\n",
    "file = pd.read_csv('C:\\\\Users\\\\DELL\\\\Documents\\\\microbiome.csv')"
   ]
  },
  {
   "cell_type": "markdown",
   "metadata": {},
   "source": [
    "NHÓM CÁC CÂU LỆNH THỰC HIỆN CÁC PHÉP TÍNH HƯỚNG TÂM\n",
    "\n",
    "Câu 2: Hãy tính trung bình cộng của cột Patient"
   ]
  },
  {
   "cell_type": "code",
   "execution_count": 40,
   "metadata": {},
   "outputs": [
    {
     "name": "stdout",
     "output_type": "stream",
     "text": [
      "8.0\n"
     ]
    }
   ],
   "source": [
    "import numpy as np\n",
    "\n",
    "Patient = file['Patient']\n",
    "print(np.mean(Patient))"
   ]
  },
  {
   "cell_type": "markdown",
   "metadata": {},
   "source": [
    "Câu 3: Hãy tính trung bình cộng (mean) đồng thời cho 3 cột Patient, Tissue và Stool"
   ]
  },
  {
   "cell_type": "code",
   "execution_count": 42,
   "metadata": {},
   "outputs": [
    {
     "name": "stdout",
     "output_type": "stream",
     "text": [
      "Patient      8.000000\n",
      "Tissue     975.000000\n",
      "Stool      723.786667\n",
      "dtype: float64\n"
     ]
    }
   ],
   "source": [
    "threes = file[['Patient', 'Tissue', 'Stool']]\n",
    "print(np.mean(threes))\n"
   ]
  },
  {
   "cell_type": "markdown",
   "metadata": {},
   "source": [
    "Câu 4: Hãy tính trung vị (median) cho 2 cột Tissue và Stool"
   ]
  },
  {
   "cell_type": "code",
   "execution_count": 47,
   "metadata": {},
   "outputs": [
    {
     "name": "stdout",
     "output_type": "stream",
     "text": [
      "Tissue: 310.0 \n",
      "Stool: 80.0\n"
     ]
    }
   ],
   "source": [
    "T = file['Tissue']\n",
    "S = file['Stool']\n",
    "print('Tissue:', np.median(T), '\\nStool:', np.median(S))\n"
   ]
  },
  {
   "cell_type": "markdown",
   "metadata": {},
   "source": [
    "Câu 5: Hãy tính số yếu vị (mode) cho 3 cột Patient, Tissue và Stool"
   ]
  },
  {
   "cell_type": "code",
   "execution_count": 63,
   "metadata": {},
   "outputs": [
    {
     "name": "stdout",
     "output_type": "stream",
     "text": [
      "Patient: 1 \n",
      "Tissue: 678 \n",
      "Stool: 2\n"
     ]
    }
   ],
   "source": [
    "import statistics as sta\n",
    "\n",
    "print('Patient:', sta.mode(Patient), '\\nTissue:', sta.mode(T), '\\nStool:', sta.mode(S))"
   ]
  },
  {
   "cell_type": "markdown",
   "metadata": {},
   "source": [
    "NHÓM CÂU LỆNH TÍNH PHƯƠNG SAI - ĐỘ LỆCH CHUẨN\n",
    "\n",
    "Câu 6: Hãy tính phương sai (variance) của cột Tissue"
   ]
  },
  {
   "cell_type": "code",
   "execution_count": 66,
   "metadata": {},
   "outputs": [
    {
     "name": "stdout",
     "output_type": "stream",
     "text": [
      "3306370.027027027\n"
     ]
    }
   ],
   "source": [
    "print(sta.variance(T))"
   ]
  },
  {
   "cell_type": "markdown",
   "metadata": {},
   "source": [
    "Câu 7: Hãy tính phương sai của 3 cột Patient, Tissue và Stool"
   ]
  },
  {
   "cell_type": "code",
   "execution_count": 70,
   "metadata": {},
   "outputs": [
    {
     "name": "stdout",
     "output_type": "stream",
     "text": [
      "Patient: 18.91891891891892 \n",
      "Tissue: 3306370.027027027 \n",
      "Stool: 2108250.9538738737\n"
     ]
    }
   ],
   "source": [
    "print('Patient:', sta.variance(Patient), '\\nTissue:', sta.variance(T), '\\nStool:', sta.variance(S))"
   ]
  },
  {
   "cell_type": "markdown",
   "metadata": {},
   "source": [
    "Câu 8: Hãy tính độ lệch chuẩn (standard deviation) của 3 cột Patient, Tissue và Stool"
   ]
  },
  {
   "cell_type": "code",
   "execution_count": 73,
   "metadata": {},
   "outputs": [
    {
     "name": "stdout",
     "output_type": "stream",
     "text": [
      "Patient: 4.320493798938574 \n",
      "Tissue: 1806.1796957482757 \n",
      "Stool: 1442.2693719120416\n"
     ]
    }
   ],
   "source": [
    "print('Patient:', np.std(Patient), '\\nTissue:', np.std(T), '\\nStool:', np.std(S))"
   ]
  },
  {
   "cell_type": "markdown",
   "metadata": {},
   "source": [
    "NHÓM CÂU LỆNH TÍNH PHÂN VỊ (PERCENTILE)"
   ]
  },
  {
   "cell_type": "markdown",
   "metadata": {},
   "source": [
    "Câu 9: Tính Q1 Q2 và Q3 cho cột Tissue\n",
    "\n",
    "Tham khảo:\n",
    "\n",
    "1) https://www.geeksforgeeks.org/python-pandas-dataframe-quantile/\n",
    "\n",
    "2) https://stackoverflow.com/questions/45926230/how-to-calculate-1st-and-3rd-quartiles/45926291"
   ]
  },
  {
   "cell_type": "code",
   "execution_count": 83,
   "metadata": {},
   "outputs": [
    {
     "name": "stdout",
     "output_type": "stream",
     "text": [
      "0.25    108.0\n",
      "0.50    310.0\n",
      "0.75    835.0\n",
      "Name: Tissue, dtype: float64\n"
     ]
    }
   ],
   "source": [
    "print(T.quantile([.25, .50, .75]))"
   ]
  },
  {
   "cell_type": "markdown",
   "metadata": {},
   "source": [
    "Câu 10: Hãy tính z-score cho cột Tissue\n",
    "\n",
    "Gợi ý: sử dụng hàm zscore của thư viện scipy\n",
    "\n",
    "Tham khảo: https://stackoverflow.com/questions/24761998/pandas-compute-z-score-for-all-columns"
   ]
  },
  {
   "cell_type": "code",
   "execution_count": 94,
   "metadata": {},
   "outputs": [
    {
     "name": "stdout",
     "output_type": "stream",
     "text": [
      "[-0.18990359 -0.46451635  0.1101773  -0.31392225 -0.07972629 -0.15613064\n",
      " -0.14228928 -0.44403112 -0.41358011 -0.45012133 -0.33385382  1.81598764\n",
      " -0.48057234 -0.48666254 -0.38423641  0.36707311  0.82716022 -0.07529705\n",
      "  1.90401875  6.12840462  0.73912911  1.15049461 -0.32111977  0.92792539\n",
      "  0.12180405  3.25659734 -0.27239815  1.09346817  0.3133686   0.18381338\n",
      " -0.22478384  0.34049768 -0.52597203 -0.39641681 -0.22533749  0.07031416\n",
      " -0.16443547 -0.39586316 -0.30506378 -0.23641059 -0.42852879 -0.5165599\n",
      " -0.47946503 -0.51157701 -0.36818042 -0.4761431  -0.50271853 -0.5398134\n",
      " -0.49275274 -0.46064077 -0.16443547  2.13378547 -0.49884295 -0.44624574\n",
      " -0.48112599 -0.4993966  -0.52320376 -0.51157701  0.82937484 -0.48334061\n",
      " -0.47669676 -0.43185072 -0.5165599  -0.36485849 -0.42797514 -0.47558945\n",
      " -0.24803734 -0.34215865 -0.48112599 -0.50271853 -0.42742148 -0.32278073\n",
      " -0.52431107 -0.53316954 -0.37094869]\n"
     ]
    }
   ],
   "source": [
    "import scipy \n",
    "from scipy.stats import zscore\n",
    "print(zscore(T))"
   ]
  },
  {
   "cell_type": "markdown",
   "metadata": {},
   "source": [
    "NHÓM CÂU LỆNH TỔNG HỢP\n",
    "\n",
    "Câu 11: (bổ sung) Hãy tính giá trị lớn nhất và nhỏ nhất của 3 cột Patient, Tissue và Stool"
   ]
  },
  {
   "cell_type": "code",
   "execution_count": 91,
   "metadata": {},
   "outputs": [
    {
     "name": "stdout",
     "output_type": "stream",
     "text": [
      "Max:\n",
      " Patient       15\n",
      "Tissue     12044\n",
      "Stool       8605\n",
      "dtype: int64 \n",
      "Min:\n",
      " Patient    1\n",
      "Tissue     0\n",
      "Stool      0\n",
      "dtype: int64\n"
     ]
    }
   ],
   "source": [
    "print('Max:\\n',np.max(threes),'\\nMin:\\n', np.min(threes))\n"
   ]
  },
  {
   "cell_type": "markdown",
   "metadata": {},
   "source": [
    "Câu 12: Hãy thực thi hàm describe đối với data frame chứa dữ liệu của microbiome.csv\n",
    "\n",
    "Tham khảo: https://pandas.pydata.org/docs/reference/api/pandas.DataFrame.describe.html"
   ]
  },
  {
   "cell_type": "code",
   "execution_count": 96,
   "metadata": {},
   "outputs": [
    {
     "data": {
      "text/html": [
       "<div>\n",
       "<style scoped>\n",
       "    .dataframe tbody tr th:only-of-type {\n",
       "        vertical-align: middle;\n",
       "    }\n",
       "\n",
       "    .dataframe tbody tr th {\n",
       "        vertical-align: top;\n",
       "    }\n",
       "\n",
       "    .dataframe thead th {\n",
       "        text-align: right;\n",
       "    }\n",
       "</style>\n",
       "<table border=\"1\" class=\"dataframe\">\n",
       "  <thead>\n",
       "    <tr style=\"text-align: right;\">\n",
       "      <th></th>\n",
       "      <th>Patient</th>\n",
       "      <th>Tissue</th>\n",
       "      <th>Stool</th>\n",
       "    </tr>\n",
       "  </thead>\n",
       "  <tbody>\n",
       "    <tr>\n",
       "      <th>count</th>\n",
       "      <td>75.000000</td>\n",
       "      <td>75.000000</td>\n",
       "      <td>75.000000</td>\n",
       "    </tr>\n",
       "    <tr>\n",
       "      <th>mean</th>\n",
       "      <td>8.000000</td>\n",
       "      <td>975.000000</td>\n",
       "      <td>723.786667</td>\n",
       "    </tr>\n",
       "    <tr>\n",
       "      <th>std</th>\n",
       "      <td>4.349588</td>\n",
       "      <td>1818.342659</td>\n",
       "      <td>1451.981733</td>\n",
       "    </tr>\n",
       "    <tr>\n",
       "      <th>min</th>\n",
       "      <td>1.000000</td>\n",
       "      <td>0.000000</td>\n",
       "      <td>0.000000</td>\n",
       "    </tr>\n",
       "    <tr>\n",
       "      <th>25%</th>\n",
       "      <td>4.000000</td>\n",
       "      <td>108.000000</td>\n",
       "      <td>16.000000</td>\n",
       "    </tr>\n",
       "    <tr>\n",
       "      <th>50%</th>\n",
       "      <td>8.000000</td>\n",
       "      <td>310.000000</td>\n",
       "      <td>80.000000</td>\n",
       "    </tr>\n",
       "    <tr>\n",
       "      <th>75%</th>\n",
       "      <td>12.000000</td>\n",
       "      <td>835.000000</td>\n",
       "      <td>656.000000</td>\n",
       "    </tr>\n",
       "    <tr>\n",
       "      <th>max</th>\n",
       "      <td>15.000000</td>\n",
       "      <td>12044.000000</td>\n",
       "      <td>8605.000000</td>\n",
       "    </tr>\n",
       "  </tbody>\n",
       "</table>\n",
       "</div>"
      ],
      "text/plain": [
       "         Patient        Tissue        Stool\n",
       "count  75.000000     75.000000    75.000000\n",
       "mean    8.000000    975.000000   723.786667\n",
       "std     4.349588   1818.342659  1451.981733\n",
       "min     1.000000      0.000000     0.000000\n",
       "25%     4.000000    108.000000    16.000000\n",
       "50%     8.000000    310.000000    80.000000\n",
       "75%    12.000000    835.000000   656.000000\n",
       "max    15.000000  12044.000000  8605.000000"
      ]
     },
     "execution_count": 96,
     "metadata": {},
     "output_type": "execute_result"
    }
   ],
   "source": [
    "file.describe()"
   ]
  },
  {
   "cell_type": "markdown",
   "metadata": {},
   "source": [
    "NHÓM CÂU LỆNH ĐỒ HỌA\n",
    "\n",
    "Câu 13: Hãy vẽ biểu đồ box plot cho cột Tissue"
   ]
  },
  {
   "cell_type": "code",
   "execution_count": 99,
   "metadata": {},
   "outputs": [
    {
     "data": {
      "text/plain": [
       "<AxesSubplot:>"
      ]
     },
     "execution_count": 99,
     "metadata": {},
     "output_type": "execute_result"
    },
    {
     "data": {
      "image/png": "[encoded data removed]",
      "text/plain": [
       "<Figure size 432x288 with 1 Axes>"
      ]
     },
     "metadata": {
      "needs_background": "light"
     },
     "output_type": "display_data"
    }
   ],
   "source": [
    "pd.DataFrame.boxplot(T)"
   ]
  },
  {
   "cell_type": "markdown",
   "metadata": {},
   "source": [
    "Câu 14: Hãy vẽ biểu đồ box plot cho cả 2 cột Tissue và Stool chung 1 hình (gồm có 2 box plot)"
   ]
  },
  {
   "cell_type": "code",
   "execution_count": 107,
   "metadata": {},
   "outputs": [
    {
     "data": {
      "text/plain": [
       "{'whiskers': [<matplotlib.lines.Line2D at 0x1a84a3a5610>,\n",
       "  <matplotlib.lines.Line2D at 0x1a84a3a5970>,\n",
       "  <matplotlib.lines.Line2D at 0x1a84a3b0e20>,\n",
       "  <matplotlib.lines.Line2D at 0x1a84a3bc1c0>],\n",
       " 'caps': [<matplotlib.lines.Line2D at 0x1a84a3a5cd0>,\n",
       "  <matplotlib.lines.Line2D at 0x1a84a3b0070>,\n",
       "  <matplotlib.lines.Line2D at 0x1a84a3bc520>,\n",
       "  <matplotlib.lines.Line2D at 0x1a84a3bc880>],\n",
       " 'boxes': [<matplotlib.lines.Line2D at 0x1a84a3a52b0>,\n",
       "  <matplotlib.lines.Line2D at 0x1a84a3b0ac0>],\n",
       " 'medians': [<matplotlib.lines.Line2D at 0x1a84a3b03d0>,\n",
       "  <matplotlib.lines.Line2D at 0x1a84a3bcbe0>],\n",
       " 'fliers': [<matplotlib.lines.Line2D at 0x1a84a3b0760>,\n",
       "  <matplotlib.lines.Line2D at 0x1a84a3bcf40>],\n",
       " 'means': []}"
      ]
     },
     "execution_count": 107,
     "metadata": {},
     "output_type": "execute_result"
    },
    {
     "data": {
      "image/png": "[encoded data removed]",
      "text/plain": [
       "<Figure size 432x288 with 1 Axes>"
      ]
     },
     "metadata": {
      "needs_background": "light"
     },
     "output_type": "display_data"
    }
   ],
   "source": [
    "import matplotlib.pyplot as plt\n",
    "\n",
    "plt.boxplot([T, S], labels = ['Tissue', 'Stool'], showfliers = True)"
   ]
  },
  {
   "cell_type": "markdown",
   "metadata": {},
   "source": [
    "Câu 15: Hãy vẽ lại câu 14 với các box plot nằm ngang"
   ]
  },
  {
   "cell_type": "code",
   "execution_count": 103,
   "metadata": {},
   "outputs": [
    {
     "data": {
      "text/plain": [
       "{'whiskers': [<matplotlib.lines.Line2D at 0x1a84a329a60>,\n",
       "  <matplotlib.lines.Line2D at 0x1a84a329dc0>,\n",
       "  <matplotlib.lines.Line2D at 0x1a84a3422b0>,\n",
       "  <matplotlib.lines.Line2D at 0x1a84a342610>],\n",
       " 'caps': [<matplotlib.lines.Line2D at 0x1a84a338160>,\n",
       "  <matplotlib.lines.Line2D at 0x1a84a3384c0>,\n",
       "  <matplotlib.lines.Line2D at 0x1a84a342970>,\n",
       "  <matplotlib.lines.Line2D at 0x1a84a342cd0>],\n",
       " 'boxes': [<matplotlib.lines.Line2D at 0x1a84a329700>,\n",
       "  <matplotlib.lines.Line2D at 0x1a84a338f10>],\n",
       " 'medians': [<matplotlib.lines.Line2D at 0x1a84a338820>,\n",
       "  <matplotlib.lines.Line2D at 0x1a84a34f070>],\n",
       " 'fliers': [<matplotlib.lines.Line2D at 0x1a84a338b80>,\n",
       "  <matplotlib.lines.Line2D at 0x1a84a34f3d0>],\n",
       " 'means': []}"
      ]
     },
     "execution_count": 103,
     "metadata": {},
     "output_type": "execute_result"
    },
    {
     "data": {
      "image/png": "[encoded data removed]",
      "text/plain": [
       "<Figure size 432x288 with 1 Axes>"
      ]
     },
     "metadata": {
      "needs_background": "light"
     },
     "output_type": "display_data"
    }
   ],
   "source": [
    "plt.boxplot([T, S], \n",
    "            labels = ['Tissue', 'Stool'],\n",
    "            showfliers = True, vert = 0)"
   ]
  },
  {
   "cell_type": "markdown",
   "metadata": {},
   "source": [
    "Câu 16: Hãy sử dụng thư viện seaborn để vẽ biểu đồ box plot cho Tissue và Stool"
   ]
  },
  {
   "cell_type": "code",
   "execution_count": 141,
   "metadata": {},
   "outputs": [
    {
     "data": {
      "text/plain": [
       "<AxesSubplot:>"
      ]
     },
     "execution_count": 141,
     "metadata": {},
     "output_type": "execute_result"
    },
    {
     "data": {
      "image/png": "[encoded data removed]",
      "text/plain": [
       "<Figure size 432x288 with 1 Axes>"
      ]
     },
     "metadata": {
      "needs_background": "light"
     },
     "output_type": "display_data"
    }
   ],
   "source": [
    "import seaborn as sns\n",
    "\n",
    "double = file[[\"Tissue\", \"Stool\"]]\n",
    "sns.boxplot(data = double, orient = 'h', palette = 'Set2')\n",
    "                                      "
   ]
  },
  {
   "cell_type": "code",
   "execution_count": null,
   "metadata": {},
   "outputs": [],
   "source": []
  }
 ],
 "metadata": {
  "kernelspec": {
   "display_name": "Python 3",
   "language": "python",
   "name": "python3"
  },
  "language_info": {
   "codemirror_mode": {
    "name": "ipython",
    "version": 3
   },
   "file_extension": ".py",
   "mimetype": "text/x-python",
   "name": "python",
   "nbconvert_exporter": "python",
   "pygments_lexer": "ipython3",
   "version": "3.8.5"
  }
 },
 "nbformat": 4,
 "nbformat_minor": 2
}
